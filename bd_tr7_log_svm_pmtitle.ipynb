{
 "cells": [
  {
   "cell_type": "code",
   "execution_count": 1,
   "id": "5417c433-8c9b-432d-a8ca-6d3a0e2b3f92",
   "metadata": {},
   "outputs": [],
   "source": [
    "import pandas as pd\n",
    "\n",
    "# Load the CSV file into a pandas DataFrame\n",
    "df = pd.read_csv(\"train-7.csv\")"
   ]
  },
  {
   "cell_type": "code",
   "execution_count": 2,
   "id": "cf93be1c-7225-4039-942e-75af821bb153",
   "metadata": {},
   "outputs": [],
   "source": [
    "# Count the number of null values in each column\n",
    "null_counts = df.isnull().sum()"
   ]
  },
  {
   "cell_type": "code",
   "execution_count": 3,
   "id": "31cca6e7-ca61-413e-bcf9-70afdd8269d6",
   "metadata": {},
   "outputs": [
    {
     "name": "stdout",
     "output_type": "stream",
     "text": [
      "                Count  Percentage\n",
      "Unnamed: 0          0    0.000000\n",
      "tconst              0    0.000000\n",
      "primaryTitle        0    0.000000\n",
      "originalTitle     506   48.888889\n",
      "startYear           0    0.000000\n",
      "endYear             0    0.000000\n",
      "runtimeMinutes      0    0.000000\n",
      "numVotes          110   10.628019\n",
      "label               0    0.000000\n"
     ]
    }
   ],
   "source": [
    "null_percentages = null_counts / len(df) * 100\n",
    "null_summary = pd.concat([null_counts, null_percentages], axis=1, keys=['Count', 'Percentage'])\n",
    "print(null_summary)"
   ]
  },
  {
   "cell_type": "code",
   "execution_count": 4,
   "id": "217acc93-17d2-4b74-937e-4f1efddf59a4",
   "metadata": {},
   "outputs": [],
   "source": [
    "df.dropna(inplace=True)"
   ]
  },
  {
   "cell_type": "code",
   "execution_count": 5,
   "id": "77ee3355-4c71-4b65-877c-46e83e6f7afd",
   "metadata": {},
   "outputs": [
    {
     "data": {
      "text/html": [
       "<div>\n",
       "<style scoped>\n",
       "    .dataframe tbody tr th:only-of-type {\n",
       "        vertical-align: middle;\n",
       "    }\n",
       "\n",
       "    .dataframe tbody tr th {\n",
       "        vertical-align: top;\n",
       "    }\n",
       "\n",
       "    .dataframe thead th {\n",
       "        text-align: right;\n",
       "    }\n",
       "</style>\n",
       "<table border=\"1\" class=\"dataframe\">\n",
       "  <thead>\n",
       "    <tr style=\"text-align: right;\">\n",
       "      <th></th>\n",
       "      <th>Unnamed: 0</th>\n",
       "      <th>tconst</th>\n",
       "      <th>primaryTitle</th>\n",
       "      <th>originalTitle</th>\n",
       "      <th>startYear</th>\n",
       "      <th>endYear</th>\n",
       "      <th>runtimeMinutes</th>\n",
       "      <th>numVotes</th>\n",
       "      <th>label</th>\n",
       "    </tr>\n",
       "  </thead>\n",
       "  <tbody>\n",
       "    <tr>\n",
       "      <th>0</th>\n",
       "      <td>2</td>\n",
       "      <td>tt0009369</td>\n",
       "      <td>Mickey</td>\n",
       "      <td>Mickey</td>\n",
       "      <td>1918</td>\n",
       "      <td>\\N</td>\n",
       "      <td>93</td>\n",
       "      <td>1119.0</td>\n",
       "      <td>False</td>\n",
       "    </tr>\n",
       "    <tr>\n",
       "      <th>2</th>\n",
       "      <td>21</td>\n",
       "      <td>tt0014945</td>\n",
       "      <td>Girl Shy</td>\n",
       "      <td>Girl Shy</td>\n",
       "      <td>1924</td>\n",
       "      <td>\\N</td>\n",
       "      <td>87</td>\n",
       "      <td>3327.0</td>\n",
       "      <td>True</td>\n",
       "    </tr>\n",
       "    <tr>\n",
       "      <th>6</th>\n",
       "      <td>52</td>\n",
       "      <td>tt0018054</td>\n",
       "      <td>Thé King ớf Kings</td>\n",
       "      <td>The King of Kings</td>\n",
       "      <td>1927</td>\n",
       "      <td>\\N</td>\n",
       "      <td>160</td>\n",
       "      <td>2081.0</td>\n",
       "      <td>True</td>\n",
       "    </tr>\n",
       "    <tr>\n",
       "      <th>8</th>\n",
       "      <td>72</td>\n",
       "      <td>tt0019429</td>\n",
       "      <td>Street Angel</td>\n",
       "      <td>Street Angel</td>\n",
       "      <td>1928</td>\n",
       "      <td>\\N</td>\n",
       "      <td>102</td>\n",
       "      <td>2314.0</td>\n",
       "      <td>True</td>\n",
       "    </tr>\n",
       "    <tr>\n",
       "      <th>10</th>\n",
       "      <td>98</td>\n",
       "      <td>tt0022599</td>\n",
       "      <td>À Nous la Liberté</td>\n",
       "      <td>À nous la liberté</td>\n",
       "      <td>1931</td>\n",
       "      <td>\\N</td>\n",
       "      <td>104</td>\n",
       "      <td>4392.0</td>\n",
       "      <td>True</td>\n",
       "    </tr>\n",
       "  </tbody>\n",
       "</table>\n",
       "</div>"
      ],
      "text/plain": [
       "    Unnamed: 0     tconst       primaryTitle      originalTitle startYear  \\\n",
       "0            2  tt0009369             Mickey             Mickey      1918   \n",
       "2           21  tt0014945           Girl Shy           Girl Shy      1924   \n",
       "6           52  tt0018054  Thé King ớf Kings  The King of Kings      1927   \n",
       "8           72  tt0019429       Street Angel       Street Angel      1928   \n",
       "10          98  tt0022599  À Nous la Liberté  À nous la liberté      1931   \n",
       "\n",
       "   endYear runtimeMinutes  numVotes  label  \n",
       "0       \\N             93    1119.0  False  \n",
       "2       \\N             87    3327.0   True  \n",
       "6       \\N            160    2081.0   True  \n",
       "8       \\N            102    2314.0   True  \n",
       "10      \\N            104    4392.0   True  "
      ]
     },
     "execution_count": 5,
     "metadata": {},
     "output_type": "execute_result"
    }
   ],
   "source": [
    "df.head()"
   ]
  },
  {
   "cell_type": "code",
   "execution_count": 6,
   "id": "63ac2501-4a76-4101-8fe0-0478a4b498a2",
   "metadata": {},
   "outputs": [],
   "source": [
    "df['startYear'] = df['startYear'].fillna(0)\n",
    "df['runtimeMinutes'] = df['runtimeMinutes'].fillna(0)\n",
    "df['numVotes'] = df['numVotes'].fillna(0)"
   ]
  },
  {
   "cell_type": "code",
   "execution_count": 7,
   "id": "fb37597c-c375-4fe0-aad2-e751182b9376",
   "metadata": {},
   "outputs": [
    {
     "data": {
      "text/plain": [
       "Unnamed: 0          int64\n",
       "tconst             object\n",
       "primaryTitle       object\n",
       "originalTitle      object\n",
       "startYear          object\n",
       "endYear            object\n",
       "runtimeMinutes     object\n",
       "numVotes          float64\n",
       "label                bool\n",
       "dtype: object"
      ]
     },
     "execution_count": 7,
     "metadata": {},
     "output_type": "execute_result"
    }
   ],
   "source": [
    "df.dtypes"
   ]
  },
  {
   "cell_type": "code",
   "execution_count": 8,
   "id": "05a483e6-ae3a-42b0-9a72-23b0083aec07",
   "metadata": {},
   "outputs": [
    {
     "name": "stdout",
     "output_type": "stream",
     "text": [
      "Number of '\\n' values in the 'tconst' column: 0\n"
     ]
    }
   ],
   "source": [
    "print(\"Number of '\\\\n' values in the 'tconst' column:\", df['tconst'].str.count('\\n').sum())\n",
    "df['tconst'] = df['tconst'].str.replace('\\n', '')"
   ]
  },
  {
   "cell_type": "code",
   "execution_count": 9,
   "id": "195d66d8-a23f-4277-84c5-62e6961fd2e2",
   "metadata": {},
   "outputs": [],
   "source": [
    "# Replace '\\\\N' values with 0\n",
    "df.replace('\\\\N', 0, inplace=True)\n",
    "\n",
    "# Convert the column to integer\n",
    "df['startYear'] = df['startYear'].astype(int)"
   ]
  },
  {
   "cell_type": "code",
   "execution_count": 10,
   "id": "78b2ac3b-9169-4e58-b520-b2191b744073",
   "metadata": {},
   "outputs": [
    {
     "name": "stdout",
     "output_type": "stream",
     "text": [
      "Number of '\\n' values in the 'startYear' column: 0\n"
     ]
    }
   ],
   "source": [
    "print(\"Number of '\\\\n' values in the 'startYear' column:\", df['startYear'].astype(str).str.count('\\n').sum())\n",
    "df['startYear'] = df['startYear'].astype(str).str.replace('\\n', '0').astype(int)\n"
   ]
  },
  {
   "cell_type": "code",
   "execution_count": 11,
   "id": "1afe16fb-1c63-4a76-81cd-c6b98ad765a9",
   "metadata": {},
   "outputs": [],
   "source": [
    "# Convert the 'Year' column to integer data type\n",
    "df['startYear'] = df['startYear'].astype(int)"
   ]
  },
  {
   "cell_type": "code",
   "execution_count": 12,
   "id": "8112cc19-afa8-4f95-b31f-4711da449856",
   "metadata": {},
   "outputs": [
    {
     "data": {
      "text/plain": [
       "Unnamed: 0          int64\n",
       "tconst             object\n",
       "primaryTitle       object\n",
       "originalTitle      object\n",
       "startYear           int64\n",
       "endYear            object\n",
       "runtimeMinutes     object\n",
       "numVotes          float64\n",
       "label                bool\n",
       "dtype: object"
      ]
     },
     "execution_count": 12,
     "metadata": {},
     "output_type": "execute_result"
    }
   ],
   "source": [
    "df.dtypes"
   ]
  },
  {
   "cell_type": "code",
   "execution_count": 13,
   "id": "09e3273c-3562-4feb-baad-0db406fac6f1",
   "metadata": {},
   "outputs": [
    {
     "data": {
      "text/html": [
       "<div>\n",
       "<style scoped>\n",
       "    .dataframe tbody tr th:only-of-type {\n",
       "        vertical-align: middle;\n",
       "    }\n",
       "\n",
       "    .dataframe tbody tr th {\n",
       "        vertical-align: top;\n",
       "    }\n",
       "\n",
       "    .dataframe thead th {\n",
       "        text-align: right;\n",
       "    }\n",
       "</style>\n",
       "<table border=\"1\" class=\"dataframe\">\n",
       "  <thead>\n",
       "    <tr style=\"text-align: right;\">\n",
       "      <th></th>\n",
       "      <th>Unnamed: 0</th>\n",
       "      <th>tconst</th>\n",
       "      <th>primaryTitle</th>\n",
       "      <th>originalTitle</th>\n",
       "      <th>startYear</th>\n",
       "      <th>endYear</th>\n",
       "      <th>runtimeMinutes</th>\n",
       "      <th>numVotes</th>\n",
       "      <th>label</th>\n",
       "    </tr>\n",
       "  </thead>\n",
       "  <tbody>\n",
       "    <tr>\n",
       "      <th>0</th>\n",
       "      <td>2</td>\n",
       "      <td>tt0009369</td>\n",
       "      <td>Mickey</td>\n",
       "      <td>Mickey</td>\n",
       "      <td>1918</td>\n",
       "      <td>0</td>\n",
       "      <td>93</td>\n",
       "      <td>1119.0</td>\n",
       "      <td>False</td>\n",
       "    </tr>\n",
       "    <tr>\n",
       "      <th>2</th>\n",
       "      <td>21</td>\n",
       "      <td>tt0014945</td>\n",
       "      <td>Girl Shy</td>\n",
       "      <td>Girl Shy</td>\n",
       "      <td>1924</td>\n",
       "      <td>0</td>\n",
       "      <td>87</td>\n",
       "      <td>3327.0</td>\n",
       "      <td>True</td>\n",
       "    </tr>\n",
       "    <tr>\n",
       "      <th>6</th>\n",
       "      <td>52</td>\n",
       "      <td>tt0018054</td>\n",
       "      <td>Thé King ớf Kings</td>\n",
       "      <td>The King of Kings</td>\n",
       "      <td>1927</td>\n",
       "      <td>0</td>\n",
       "      <td>160</td>\n",
       "      <td>2081.0</td>\n",
       "      <td>True</td>\n",
       "    </tr>\n",
       "    <tr>\n",
       "      <th>8</th>\n",
       "      <td>72</td>\n",
       "      <td>tt0019429</td>\n",
       "      <td>Street Angel</td>\n",
       "      <td>Street Angel</td>\n",
       "      <td>1928</td>\n",
       "      <td>0</td>\n",
       "      <td>102</td>\n",
       "      <td>2314.0</td>\n",
       "      <td>True</td>\n",
       "    </tr>\n",
       "    <tr>\n",
       "      <th>10</th>\n",
       "      <td>98</td>\n",
       "      <td>tt0022599</td>\n",
       "      <td>À Nous la Liberté</td>\n",
       "      <td>À nous la liberté</td>\n",
       "      <td>1931</td>\n",
       "      <td>0</td>\n",
       "      <td>104</td>\n",
       "      <td>4392.0</td>\n",
       "      <td>True</td>\n",
       "    </tr>\n",
       "  </tbody>\n",
       "</table>\n",
       "</div>"
      ],
      "text/plain": [
       "    Unnamed: 0     tconst       primaryTitle      originalTitle  startYear  \\\n",
       "0            2  tt0009369             Mickey             Mickey       1918   \n",
       "2           21  tt0014945           Girl Shy           Girl Shy       1924   \n",
       "6           52  tt0018054  Thé King ớf Kings  The King of Kings       1927   \n",
       "8           72  tt0019429       Street Angel       Street Angel       1928   \n",
       "10          98  tt0022599  À Nous la Liberté  À nous la liberté       1931   \n",
       "\n",
       "   endYear runtimeMinutes  numVotes  label  \n",
       "0        0             93    1119.0  False  \n",
       "2        0             87    3327.0   True  \n",
       "6        0            160    2081.0   True  \n",
       "8        0            102    2314.0   True  \n",
       "10       0            104    4392.0   True  "
      ]
     },
     "execution_count": 13,
     "metadata": {},
     "output_type": "execute_result"
    }
   ],
   "source": [
    "df.head()"
   ]
  },
  {
   "cell_type": "code",
   "execution_count": 14,
   "id": "da10fd45-a2d2-47ed-bf34-42b2d1ff9497",
   "metadata": {},
   "outputs": [
    {
     "name": "stdout",
     "output_type": "stream",
     "text": [
      "47\n"
     ]
    }
   ],
   "source": [
    "# How many times have the start year and end year equal to 0\n",
    "count = 0\n",
    "for index, row in df.iterrows():\n",
    "    if row['startYear'] == 0 and row['endYear'] != 0:\n",
    "        count = count + 1\n",
    "\n",
    "print(count)"
   ]
  },
  {
   "cell_type": "code",
   "execution_count": 15,
   "id": "6e28bd37-872a-4a52-a7a3-ac41f65bebfa",
   "metadata": {},
   "outputs": [
    {
     "name": "stdout",
     "output_type": "stream",
     "text": [
      "429\n"
     ]
    }
   ],
   "source": [
    "# How many times have the start year non zeror and end year equal to 0\n",
    "count = 0\n",
    "for index, row in df.iterrows():\n",
    "    if row['startYear'] != 0 and row['endYear'] == 0:\n",
    "        count = count + 1\n",
    "\n",
    "print(count)"
   ]
  },
  {
   "cell_type": "code",
   "execution_count": 16,
   "id": "4a5b2772-1cae-4570-b98a-be050d0450dc",
   "metadata": {},
   "outputs": [
    {
     "name": "stdout",
     "output_type": "stream",
     "text": [
      "0\n"
     ]
    }
   ],
   "source": [
    "# How many times have the start year non zeror and end year equal to non zero \n",
    "count = 0\n",
    "for index, row in df.iterrows():\n",
    "    if row['startYear'] != 0 and row['endYear'] != 0:\n",
    "        count = count + 1\n",
    "\n",
    "print(count)"
   ]
  },
  {
   "cell_type": "code",
   "execution_count": 17,
   "id": "6350ec47-6018-4054-b5bb-a7c8e6cc5d7e",
   "metadata": {},
   "outputs": [],
   "source": [
    "# replaxce the start year with the value of end year when start year equals 0 and reversed\n",
    "for index, row in df.iterrows():\n",
    "    if row['startYear'] == 0:\n",
    "        df.loc[index, 'startYear'] = row['endYear']\n",
    "    elif row['endYear'] == 0:\n",
    "        df.loc[index, 'endYear'] = row['startYear']"
   ]
  },
  {
   "cell_type": "code",
   "execution_count": 18,
   "id": "c18e0214-6c12-44c3-830a-e446c9e6919e",
   "metadata": {},
   "outputs": [
    {
     "data": {
      "text/html": [
       "<div>\n",
       "<style scoped>\n",
       "    .dataframe tbody tr th:only-of-type {\n",
       "        vertical-align: middle;\n",
       "    }\n",
       "\n",
       "    .dataframe tbody tr th {\n",
       "        vertical-align: top;\n",
       "    }\n",
       "\n",
       "    .dataframe thead th {\n",
       "        text-align: right;\n",
       "    }\n",
       "</style>\n",
       "<table border=\"1\" class=\"dataframe\">\n",
       "  <thead>\n",
       "    <tr style=\"text-align: right;\">\n",
       "      <th></th>\n",
       "      <th>Unnamed: 0</th>\n",
       "      <th>tconst</th>\n",
       "      <th>primaryTitle</th>\n",
       "      <th>originalTitle</th>\n",
       "      <th>startYear</th>\n",
       "      <th>endYear</th>\n",
       "      <th>runtimeMinutes</th>\n",
       "      <th>numVotes</th>\n",
       "      <th>label</th>\n",
       "    </tr>\n",
       "  </thead>\n",
       "  <tbody>\n",
       "    <tr>\n",
       "      <th>0</th>\n",
       "      <td>2</td>\n",
       "      <td>tt0009369</td>\n",
       "      <td>Mickey</td>\n",
       "      <td>Mickey</td>\n",
       "      <td>1918</td>\n",
       "      <td>1918</td>\n",
       "      <td>93</td>\n",
       "      <td>1119.0</td>\n",
       "      <td>False</td>\n",
       "    </tr>\n",
       "    <tr>\n",
       "      <th>2</th>\n",
       "      <td>21</td>\n",
       "      <td>tt0014945</td>\n",
       "      <td>Girl Shy</td>\n",
       "      <td>Girl Shy</td>\n",
       "      <td>1924</td>\n",
       "      <td>1924</td>\n",
       "      <td>87</td>\n",
       "      <td>3327.0</td>\n",
       "      <td>True</td>\n",
       "    </tr>\n",
       "    <tr>\n",
       "      <th>6</th>\n",
       "      <td>52</td>\n",
       "      <td>tt0018054</td>\n",
       "      <td>Thé King ớf Kings</td>\n",
       "      <td>The King of Kings</td>\n",
       "      <td>1927</td>\n",
       "      <td>1927</td>\n",
       "      <td>160</td>\n",
       "      <td>2081.0</td>\n",
       "      <td>True</td>\n",
       "    </tr>\n",
       "    <tr>\n",
       "      <th>8</th>\n",
       "      <td>72</td>\n",
       "      <td>tt0019429</td>\n",
       "      <td>Street Angel</td>\n",
       "      <td>Street Angel</td>\n",
       "      <td>1928</td>\n",
       "      <td>1928</td>\n",
       "      <td>102</td>\n",
       "      <td>2314.0</td>\n",
       "      <td>True</td>\n",
       "    </tr>\n",
       "    <tr>\n",
       "      <th>10</th>\n",
       "      <td>98</td>\n",
       "      <td>tt0022599</td>\n",
       "      <td>À Nous la Liberté</td>\n",
       "      <td>À nous la liberté</td>\n",
       "      <td>1931</td>\n",
       "      <td>1931</td>\n",
       "      <td>104</td>\n",
       "      <td>4392.0</td>\n",
       "      <td>True</td>\n",
       "    </tr>\n",
       "    <tr>\n",
       "      <th>11</th>\n",
       "      <td>154</td>\n",
       "      <td>tt0027075</td>\n",
       "      <td>A Tale of Two Cities</td>\n",
       "      <td>A Tale of Two Cities</td>\n",
       "      <td>1935</td>\n",
       "      <td>1935</td>\n",
       "      <td>128</td>\n",
       "      <td>5596.0</td>\n",
       "      <td>True</td>\n",
       "    </tr>\n",
       "    <tr>\n",
       "      <th>12</th>\n",
       "      <td>161</td>\n",
       "      <td>tt0027441</td>\n",
       "      <td>Charlie Chan at the Race Track</td>\n",
       "      <td>Charlie Chan at the Race Track</td>\n",
       "      <td>1936</td>\n",
       "      <td>1936</td>\n",
       "      <td>70</td>\n",
       "      <td>1461.0</td>\n",
       "      <td>True</td>\n",
       "    </tr>\n",
       "    <tr>\n",
       "      <th>14</th>\n",
       "      <td>219</td>\n",
       "      <td>tt0031002</td>\n",
       "      <td>Thé Yớúng in Héárt</td>\n",
       "      <td>The Young in Heart</td>\n",
       "      <td>1938</td>\n",
       "      <td>1938</td>\n",
       "      <td>90</td>\n",
       "      <td>1332.0</td>\n",
       "      <td>True</td>\n",
       "    </tr>\n",
       "    <tr>\n",
       "      <th>17</th>\n",
       "      <td>224</td>\n",
       "      <td>tt0031149</td>\n",
       "      <td>Charlie Chan in Reno</td>\n",
       "      <td>Charlie Chan in Reno</td>\n",
       "      <td>1939</td>\n",
       "      <td>1939</td>\n",
       "      <td>71</td>\n",
       "      <td>1366.0</td>\n",
       "      <td>True</td>\n",
       "    </tr>\n",
       "    <tr>\n",
       "      <th>18</th>\n",
       "      <td>241</td>\n",
       "      <td>tt0031754</td>\n",
       "      <td>On Borrowed Time</td>\n",
       "      <td>On Borrowed Time</td>\n",
       "      <td>1939</td>\n",
       "      <td>1939</td>\n",
       "      <td>99</td>\n",
       "      <td>1896.0</td>\n",
       "      <td>True</td>\n",
       "    </tr>\n",
       "  </tbody>\n",
       "</table>\n",
       "</div>"
      ],
      "text/plain": [
       "    Unnamed: 0     tconst                    primaryTitle  \\\n",
       "0            2  tt0009369                          Mickey   \n",
       "2           21  tt0014945                        Girl Shy   \n",
       "6           52  tt0018054               Thé King ớf Kings   \n",
       "8           72  tt0019429                    Street Angel   \n",
       "10          98  tt0022599               À Nous la Liberté   \n",
       "11         154  tt0027075            A Tale of Two Cities   \n",
       "12         161  tt0027441  Charlie Chan at the Race Track   \n",
       "14         219  tt0031002              Thé Yớúng in Héárt   \n",
       "17         224  tt0031149            Charlie Chan in Reno   \n",
       "18         241  tt0031754                On Borrowed Time   \n",
       "\n",
       "                     originalTitle startYear endYear runtimeMinutes  numVotes  \\\n",
       "0                           Mickey      1918    1918             93    1119.0   \n",
       "2                         Girl Shy      1924    1924             87    3327.0   \n",
       "6                The King of Kings      1927    1927            160    2081.0   \n",
       "8                     Street Angel      1928    1928            102    2314.0   \n",
       "10               À nous la liberté      1931    1931            104    4392.0   \n",
       "11            A Tale of Two Cities      1935    1935            128    5596.0   \n",
       "12  Charlie Chan at the Race Track      1936    1936             70    1461.0   \n",
       "14              The Young in Heart      1938    1938             90    1332.0   \n",
       "17            Charlie Chan in Reno      1939    1939             71    1366.0   \n",
       "18                On Borrowed Time      1939    1939             99    1896.0   \n",
       "\n",
       "    label  \n",
       "0   False  \n",
       "2    True  \n",
       "6    True  \n",
       "8    True  \n",
       "10   True  \n",
       "11   True  \n",
       "12   True  \n",
       "14   True  \n",
       "17   True  \n",
       "18   True  "
      ]
     },
     "execution_count": 18,
     "metadata": {},
     "output_type": "execute_result"
    }
   ],
   "source": [
    "df.head(10)"
   ]
  },
  {
   "cell_type": "code",
   "execution_count": 19,
   "id": "458651c7-8e4b-4abc-a75e-7b9ec5c96442",
   "metadata": {},
   "outputs": [],
   "source": [
    "# No need to have 2 year entry any more\n",
    "df = df.drop('endYear', axis=1)"
   ]
  },
  {
   "cell_type": "code",
   "execution_count": 20,
   "id": "957d1412-a33d-4aff-8ea6-9b90e942df23",
   "metadata": {},
   "outputs": [],
   "source": [
    "# Rename the column staryear to a common year\n",
    "df = df.rename(columns={'startYear':'year'})"
   ]
  },
  {
   "cell_type": "code",
   "execution_count": 21,
   "id": "6d2ed6d4-4b7e-428f-9306-97d6aa174647",
   "metadata": {},
   "outputs": [
    {
     "data": {
      "text/html": [
       "<div>\n",
       "<style scoped>\n",
       "    .dataframe tbody tr th:only-of-type {\n",
       "        vertical-align: middle;\n",
       "    }\n",
       "\n",
       "    .dataframe tbody tr th {\n",
       "        vertical-align: top;\n",
       "    }\n",
       "\n",
       "    .dataframe thead th {\n",
       "        text-align: right;\n",
       "    }\n",
       "</style>\n",
       "<table border=\"1\" class=\"dataframe\">\n",
       "  <thead>\n",
       "    <tr style=\"text-align: right;\">\n",
       "      <th></th>\n",
       "      <th>Unnamed: 0</th>\n",
       "      <th>tconst</th>\n",
       "      <th>primaryTitle</th>\n",
       "      <th>originalTitle</th>\n",
       "      <th>year</th>\n",
       "      <th>runtimeMinutes</th>\n",
       "      <th>numVotes</th>\n",
       "      <th>label</th>\n",
       "    </tr>\n",
       "  </thead>\n",
       "  <tbody>\n",
       "    <tr>\n",
       "      <th>0</th>\n",
       "      <td>2</td>\n",
       "      <td>tt0009369</td>\n",
       "      <td>Mickey</td>\n",
       "      <td>Mickey</td>\n",
       "      <td>1918</td>\n",
       "      <td>93</td>\n",
       "      <td>1119.0</td>\n",
       "      <td>False</td>\n",
       "    </tr>\n",
       "    <tr>\n",
       "      <th>2</th>\n",
       "      <td>21</td>\n",
       "      <td>tt0014945</td>\n",
       "      <td>Girl Shy</td>\n",
       "      <td>Girl Shy</td>\n",
       "      <td>1924</td>\n",
       "      <td>87</td>\n",
       "      <td>3327.0</td>\n",
       "      <td>True</td>\n",
       "    </tr>\n",
       "    <tr>\n",
       "      <th>6</th>\n",
       "      <td>52</td>\n",
       "      <td>tt0018054</td>\n",
       "      <td>Thé King ớf Kings</td>\n",
       "      <td>The King of Kings</td>\n",
       "      <td>1927</td>\n",
       "      <td>160</td>\n",
       "      <td>2081.0</td>\n",
       "      <td>True</td>\n",
       "    </tr>\n",
       "    <tr>\n",
       "      <th>8</th>\n",
       "      <td>72</td>\n",
       "      <td>tt0019429</td>\n",
       "      <td>Street Angel</td>\n",
       "      <td>Street Angel</td>\n",
       "      <td>1928</td>\n",
       "      <td>102</td>\n",
       "      <td>2314.0</td>\n",
       "      <td>True</td>\n",
       "    </tr>\n",
       "    <tr>\n",
       "      <th>10</th>\n",
       "      <td>98</td>\n",
       "      <td>tt0022599</td>\n",
       "      <td>À Nous la Liberté</td>\n",
       "      <td>À nous la liberté</td>\n",
       "      <td>1931</td>\n",
       "      <td>104</td>\n",
       "      <td>4392.0</td>\n",
       "      <td>True</td>\n",
       "    </tr>\n",
       "    <tr>\n",
       "      <th>11</th>\n",
       "      <td>154</td>\n",
       "      <td>tt0027075</td>\n",
       "      <td>A Tale of Two Cities</td>\n",
       "      <td>A Tale of Two Cities</td>\n",
       "      <td>1935</td>\n",
       "      <td>128</td>\n",
       "      <td>5596.0</td>\n",
       "      <td>True</td>\n",
       "    </tr>\n",
       "    <tr>\n",
       "      <th>12</th>\n",
       "      <td>161</td>\n",
       "      <td>tt0027441</td>\n",
       "      <td>Charlie Chan at the Race Track</td>\n",
       "      <td>Charlie Chan at the Race Track</td>\n",
       "      <td>1936</td>\n",
       "      <td>70</td>\n",
       "      <td>1461.0</td>\n",
       "      <td>True</td>\n",
       "    </tr>\n",
       "    <tr>\n",
       "      <th>14</th>\n",
       "      <td>219</td>\n",
       "      <td>tt0031002</td>\n",
       "      <td>Thé Yớúng in Héárt</td>\n",
       "      <td>The Young in Heart</td>\n",
       "      <td>1938</td>\n",
       "      <td>90</td>\n",
       "      <td>1332.0</td>\n",
       "      <td>True</td>\n",
       "    </tr>\n",
       "    <tr>\n",
       "      <th>17</th>\n",
       "      <td>224</td>\n",
       "      <td>tt0031149</td>\n",
       "      <td>Charlie Chan in Reno</td>\n",
       "      <td>Charlie Chan in Reno</td>\n",
       "      <td>1939</td>\n",
       "      <td>71</td>\n",
       "      <td>1366.0</td>\n",
       "      <td>True</td>\n",
       "    </tr>\n",
       "    <tr>\n",
       "      <th>18</th>\n",
       "      <td>241</td>\n",
       "      <td>tt0031754</td>\n",
       "      <td>On Borrowed Time</td>\n",
       "      <td>On Borrowed Time</td>\n",
       "      <td>1939</td>\n",
       "      <td>99</td>\n",
       "      <td>1896.0</td>\n",
       "      <td>True</td>\n",
       "    </tr>\n",
       "  </tbody>\n",
       "</table>\n",
       "</div>"
      ],
      "text/plain": [
       "    Unnamed: 0     tconst                    primaryTitle  \\\n",
       "0            2  tt0009369                          Mickey   \n",
       "2           21  tt0014945                        Girl Shy   \n",
       "6           52  tt0018054               Thé King ớf Kings   \n",
       "8           72  tt0019429                    Street Angel   \n",
       "10          98  tt0022599               À Nous la Liberté   \n",
       "11         154  tt0027075            A Tale of Two Cities   \n",
       "12         161  tt0027441  Charlie Chan at the Race Track   \n",
       "14         219  tt0031002              Thé Yớúng in Héárt   \n",
       "17         224  tt0031149            Charlie Chan in Reno   \n",
       "18         241  tt0031754                On Borrowed Time   \n",
       "\n",
       "                     originalTitle  year runtimeMinutes  numVotes  label  \n",
       "0                           Mickey  1918             93    1119.0  False  \n",
       "2                         Girl Shy  1924             87    3327.0   True  \n",
       "6                The King of Kings  1927            160    2081.0   True  \n",
       "8                     Street Angel  1928            102    2314.0   True  \n",
       "10               À nous la liberté  1931            104    4392.0   True  \n",
       "11            A Tale of Two Cities  1935            128    5596.0   True  \n",
       "12  Charlie Chan at the Race Track  1936             70    1461.0   True  \n",
       "14              The Young in Heart  1938             90    1332.0   True  \n",
       "17            Charlie Chan in Reno  1939             71    1366.0   True  \n",
       "18                On Borrowed Time  1939             99    1896.0   True  "
      ]
     },
     "execution_count": 21,
     "metadata": {},
     "output_type": "execute_result"
    }
   ],
   "source": [
    "df.head(10)"
   ]
  },
  {
   "cell_type": "code",
   "execution_count": 22,
   "id": "e426719d-fd6a-427a-a77b-6173e45c41e7",
   "metadata": {},
   "outputs": [],
   "source": [
    "import matplotlib.pyplot as plt"
   ]
  },
  {
   "cell_type": "code",
   "execution_count": 23,
   "id": "4ea3b0f7-38f3-4374-8d8f-b2e75645efc6",
   "metadata": {},
   "outputs": [
    {
     "data": {
      "image/png": "[encoded data removed]",
      "text/plain": [
       "<Figure size 432x288 with 1 Axes>"
      ]
     },
     "metadata": {
      "needs_background": "light"
     },
     "output_type": "display_data"
    }
   ],
   "source": [
    "# Plot the distribution of the 'numVotes' column using a histogram\n",
    "df['numVotes'].plot.hist(bins=50)\n",
    "\n",
    "plt.show()"
   ]
  },
  {
   "cell_type": "code",
   "execution_count": 24,
   "id": "91e2481a-afd2-4057-8198-142427aff2c6",
   "metadata": {},
   "outputs": [
    {
     "name": "stderr",
     "output_type": "stream",
     "text": [
      "/opt/conda/lib/python3.9/site-packages/seaborn/distributions.py:2619: FutureWarning: `distplot` is a deprecated function and will be removed in a future version. Please adapt your code to use either `displot` (a figure-level function with similar flexibility) or `histplot` (an axes-level function for histograms).\n",
      "  warnings.warn(msg, FutureWarning)\n"
     ]
    },
    {
     "data": {
      "image/png": "[encoded data removed]",
      "text/plain": [
       "<Figure size 432x288 with 1 Axes>"
      ]
     },
     "metadata": {
      "needs_background": "light"
     },
     "output_type": "display_data"
    }
   ],
   "source": [
    "import seaborn as sns\n",
    "\n",
    "# Plot the distribution of the 'numVotes' column using a histogram\n",
    "sns.distplot(df['numVotes'])\n",
    "\n",
    "# Show the plot\n",
    "plt.show()"
   ]
  },
  {
   "cell_type": "code",
   "execution_count": 25,
   "id": "d03097de-fa12-43df-baf7-f4616933fa1a",
   "metadata": {},
   "outputs": [],
   "source": [
    "import numpy as np"
   ]
  },
  {
   "cell_type": "code",
   "execution_count": 26,
   "id": "0b5357c1-d973-43a6-89e3-2b5b46da7ba3",
   "metadata": {},
   "outputs": [],
   "source": [
    "# Log the values in the 'numVotes' column\n",
    "df['log_numVotes'] = df['numVotes'].apply(np.log)"
   ]
  },
  {
   "cell_type": "code",
   "execution_count": 27,
   "id": "f3f7d9b5-bc20-47a9-a21f-2574cff3e48b",
   "metadata": {},
   "outputs": [
    {
     "data": {
      "image/png": "[encoded data removed]",
      "text/plain": [
       "<Figure size 432x288 with 1 Axes>"
      ]
     },
     "metadata": {
      "needs_background": "light"
     },
     "output_type": "display_data"
    }
   ],
   "source": [
    "# Plot the distribution of the 'numVotes' column using a histogram\n",
    "df['log_numVotes'].plot.hist(bins=50)\n",
    "\n",
    "plt.show()"
   ]
  },
  {
   "cell_type": "code",
   "execution_count": 28,
   "id": "aedf69ce-4625-43bc-982f-93f50826fb73",
   "metadata": {},
   "outputs": [
    {
     "name": "stderr",
     "output_type": "stream",
     "text": [
      "/opt/conda/lib/python3.9/site-packages/seaborn/distributions.py:2619: FutureWarning: `distplot` is a deprecated function and will be removed in a future version. Please adapt your code to use either `displot` (a figure-level function with similar flexibility) or `histplot` (an axes-level function for histograms).\n",
      "  warnings.warn(msg, FutureWarning)\n"
     ]
    },
    {
     "data": {
      "image/png": "[encoded data removed]",
      "text/plain": [
       "<Figure size 432x288 with 1 Axes>"
      ]
     },
     "metadata": {
      "needs_background": "light"
     },
     "output_type": "display_data"
    }
   ],
   "source": [
    "import seaborn as sns\n",
    "\n",
    "# Plot the distribution of the 'numVotes' column using a histogram\n",
    "sns.distplot(df['log_numVotes'])\n",
    "\n",
    "# Show the plot\n",
    "plt.show()"
   ]
  },
  {
   "cell_type": "code",
   "execution_count": 29,
   "id": "6213bd60-1142-4846-bf97-0ce8ef98f181",
   "metadata": {},
   "outputs": [],
   "source": [
    "df.to_csv('train-7_processed.csv', index=False)"
   ]
  },
  {
   "cell_type": "code",
   "execution_count": 30,
   "id": "fdeb344e-9a45-4b38-bc93-5fcf8d450193",
   "metadata": {},
   "outputs": [],
   "source": [
    "# Import necessary PySpark libraries\n",
    "from pyspark.sql import SparkSession\n",
    "from pyspark.ml.classification import LogisticRegression\n",
    "from pyspark.ml.evaluation import BinaryClassificationEvaluator\n"
   ]
  },
  {
   "cell_type": "code",
   "execution_count": 31,
   "id": "091e097f-2424-4de0-a84f-b56b188f4d49",
   "metadata": {},
   "outputs": [
    {
     "name": "stderr",
     "output_type": "stream",
     "text": [
      "WARNING: An illegal reflective access operation has occurred\n",
      "WARNING: Illegal reflective access by org.apache.spark.unsafe.Platform (file:/usr/local/spark-3.2.0-bin-hadoop3.2/jars/spark-unsafe_2.12-3.2.0.jar) to constructor java.nio.DirectByteBuffer(long,int)\n",
      "WARNING: Please consider reporting this to the maintainers of org.apache.spark.unsafe.Platform\n",
      "WARNING: Use --illegal-access=warn to enable warnings of further illegal reflective access operations\n",
      "WARNING: All illegal access operations will be denied in a future release\n",
      "Using Spark's default log4j profile: org/apache/spark/log4j-defaults.properties\n",
      "Setting default log level to \"WARN\".\n",
      "To adjust logging level use sc.setLogLevel(newLevel). For SparkR, use setLogLevel(newLevel).\n",
      "23/03/20 07:08:26 WARN NativeCodeLoader: Unable to load native-hadoop library for your platform... using builtin-java classes where applicable\n"
     ]
    }
   ],
   "source": [
    "# Initialize a SparkSession\n",
    "spark = SparkSession.builder.getOrCreate()"
   ]
  },
  {
   "cell_type": "code",
   "execution_count": 32,
   "id": "e03df6ff-a1fa-4d53-b478-674c2d957aff",
   "metadata": {},
   "outputs": [
    {
     "name": "stderr",
     "output_type": "stream",
     "text": [
      "                                                                                \r"
     ]
    }
   ],
   "source": [
    "# Read the CSV file into a DataFrame\n",
    "df = spark.read.csv(\"train-7_processed.csv\", header=True, inferSchema=True)"
   ]
  },
  {
   "cell_type": "code",
   "execution_count": 33,
   "id": "04c1f439-decc-4f64-915c-5c267c5ccbd2",
   "metadata": {},
   "outputs": [
    {
     "name": "stderr",
     "output_type": "stream",
     "text": [
      "                                                                                \r"
     ]
    },
    {
     "name": "stdout",
     "output_type": "stream",
     "text": [
      "+----------+---------+--------------------+--------------------+----+--------------+--------+-----+------------------+\n",
      "|Unnamed: 0|   tconst|        primaryTitle|       originalTitle|year|runtimeMinutes|numVotes|label|      log_numVotes|\n",
      "+----------+---------+--------------------+--------------------+----+--------------+--------+-----+------------------+\n",
      "|         2|tt0009369|              Mickey|              Mickey|1918|            93|  1119.0|false| 7.020190708311925|\n",
      "|        21|tt0014945|            Girl Shy|            Girl Shy|1924|            87|  3327.0| true| 8.109826276018477|\n",
      "|        52|tt0018054|   Thé King ớf Kings|   The King of Kings|1927|           160|  2081.0| true| 7.640603826393634|\n",
      "|        72|tt0019429|        Street Angel|        Street Angel|1928|           102|  2314.0| true| 7.746732907753622|\n",
      "|        98|tt0022599|   À Nous la Liberté|   À nous la liberté|1931|           104|  4392.0| true| 8.387539983189367|\n",
      "|       154|tt0027075|A Tale of Two Cities|A Tale of Two Cities|1935|           128|  5596.0| true| 8.629807335785372|\n",
      "|       161|tt0027441|Charlie Chan at t...|Charlie Chan at t...|1936|            70|  1461.0| true|   7.2868764117507|\n",
      "|       219|tt0031002|  Thé Yớúng in Héárt|  The Young in Heart|1938|            90|  1332.0| true| 7.194436851100335|\n",
      "|       224|tt0031149|Charlie Chan in Reno|Charlie Chan in Reno|1939|            71|  1366.0| true|7.2196420401307355|\n",
      "|       241|tt0031754|    On Borrowed Time|    On Borrowed Time|1939|            99|  1896.0| true| 7.547501682814967|\n",
      "|       264|tt0032484|Foreign Correspon...|Foreign Correspon...|1940|           120| 19974.0| true|  9.90218670680308|\n",
      "|       269|tt0032701|          The Letter|          The Letter|1940|            95| 12714.0| true| 9.450459027496354|\n",
      "|       285|tt0033532|All That Money Ca...|All That Money Ca...|1941|           107|  4908.0| true| 8.498621805830801|\n",
      "|       298|tt0033873|            Man Hunt|            Man Hunt|1941|           105|  5231.0| true| 8.562357743370612|\n",
      "|       299|tt0033874|The Man Who Came ...|The Man Who Came ...|1942|           112|  7446.0| true| 8.915432254432663|\n",
      "|       419|tt0038975|The Spiral Staircase|The Spiral Staircase|1946|            83|  9752.0| true| 9.185227671161108|\n",
      "|       459|tt0040495|      Johnny Belinda|      Johnny Belinda|1948|           102|  4659.0| true| 8.446556111816797|\n",
      "|       521|tt0042898|The Rocking Horse...|The Rocking Horse...|1949|            91|  1137.0| true| 7.036148493750536|\n",
      "|       556|tt0044418|      Big Jim McLáin|      Big Jim McLain|1952|            90|  2109.0|false| 7.653969180478774|\n",
      "|       597|tt0046031|     The Man Between|     The Man Between|1953|           100|  1985.0| true|  7.59337419312129|\n",
      "+----------+---------+--------------------+--------------------+----+--------------+--------+-----+------------------+\n",
      "only showing top 20 rows\n",
      "\n"
     ]
    }
   ],
   "source": [
    "df.show()"
   ]
  },
  {
   "cell_type": "code",
   "execution_count": 34,
   "id": "301ccfc9-1419-4052-bd9b-a69fa50d5720",
   "metadata": {},
   "outputs": [],
   "source": [
    "from pyspark.sql.functions import col"
   ]
  },
  {
   "cell_type": "code",
   "execution_count": 35,
   "id": "d992033b-a521-49a7-a1c3-d7c4fcc97d06",
   "metadata": {},
   "outputs": [],
   "source": [
    "#df = df.drop(col(\"originalTitle\"))"
   ]
  },
  {
   "cell_type": "code",
   "execution_count": 36,
   "id": "a3bcef79-f2d8-48f6-ae55-d413d2d4bbed",
   "metadata": {},
   "outputs": [
    {
     "name": "stderr",
     "output_type": "stream",
     "text": [
      "                                                                                \r"
     ]
    },
    {
     "data": {
      "text/plain": [
       "476"
      ]
     },
     "execution_count": 36,
     "metadata": {},
     "output_type": "execute_result"
    }
   ],
   "source": [
    "df.select(\"label\").count()\n"
   ]
  },
  {
   "cell_type": "code",
   "execution_count": 37,
   "id": "7826a63a-6940-4a7d-8e99-650d12f250b5",
   "metadata": {},
   "outputs": [
    {
     "name": "stdout",
     "output_type": "stream",
     "text": [
      "root\n",
      " |-- Unnamed: 0: integer (nullable = true)\n",
      " |-- tconst: string (nullable = true)\n",
      " |-- primaryTitle: string (nullable = true)\n",
      " |-- originalTitle: string (nullable = true)\n",
      " |-- year: integer (nullable = true)\n",
      " |-- runtimeMinutes: integer (nullable = true)\n",
      " |-- numVotes: double (nullable = true)\n",
      " |-- label: boolean (nullable = true)\n",
      " |-- log_numVotes: double (nullable = true)\n",
      "\n"
     ]
    }
   ],
   "source": [
    "df.printSchema()"
   ]
  },
  {
   "cell_type": "code",
   "execution_count": 38,
   "id": "903aca0c-ab9d-4369-ab6a-b6eb56565889",
   "metadata": {},
   "outputs": [
    {
     "name": "stderr",
     "output_type": "stream",
     "text": [
      "                                                                                \r"
     ]
    },
    {
     "name": "stdout",
     "output_type": "stream",
     "text": [
      "+-----+-----+\n",
      "|label|count|\n",
      "+-----+-----+\n",
      "| true|  237|\n",
      "|false|  239|\n",
      "+-----+-----+\n",
      "\n"
     ]
    }
   ],
   "source": [
    "df.groupby(\"label\").count().show()"
   ]
  },
  {
   "cell_type": "code",
   "execution_count": 39,
   "id": "6a1dd01a-9f39-4607-9802-bb7aee0c55c8",
   "metadata": {},
   "outputs": [],
   "source": [
    "from pyspark.ml.feature import StringIndexer\n",
    "from pyspark.ml.feature import VectorAssembler"
   ]
  },
  {
   "cell_type": "code",
   "execution_count": 40,
   "id": "7d2eb8a1-b9de-45aa-b3db-25fb1d7d72cd",
   "metadata": {},
   "outputs": [
    {
     "name": "stderr",
     "output_type": "stream",
     "text": [
      "                                                                                \r"
     ]
    }
   ],
   "source": [
    "indexer=StringIndexer(inputCol=\"tconst\",outputCol=\"tconst_cat\")\n",
    "indexed=indexer.fit(df).transform(df)"
   ]
  },
  {
   "cell_type": "code",
   "execution_count": 41,
   "id": "be59af5d-fc08-4a60-a338-1b9e8e8040c6",
   "metadata": {},
   "outputs": [
    {
     "name": "stderr",
     "output_type": "stream",
     "text": [
      "                                                                                \r"
     ]
    }
   ],
   "source": [
    "indexer=StringIndexer(inputCol=\"primaryTitle\",outputCol=\"primaryTitle_cat\")\n",
    "indexed=indexer.fit(indexed).transform(indexed)"
   ]
  },
  {
   "cell_type": "code",
   "execution_count": 42,
   "id": "9efae1d6-16ed-4872-8484-ca3aadf5e1a7",
   "metadata": {},
   "outputs": [
    {
     "name": "stderr",
     "output_type": "stream",
     "text": [
      "                                                                                \r"
     ]
    }
   ],
   "source": [
    "indexer=StringIndexer(inputCol=\"originalTitle\",outputCol=\"originalTitle_cat\")\n",
    "indexed=indexer.fit(indexed).transform(indexed)"
   ]
  },
  {
   "cell_type": "code",
   "execution_count": 43,
   "id": "31c89453-3273-494b-a920-f2eabe3665f4",
   "metadata": {},
   "outputs": [
    {
     "name": "stderr",
     "output_type": "stream",
     "text": [
      "                                                                                \r"
     ]
    },
    {
     "name": "stdout",
     "output_type": "stream",
     "text": [
      "+----------+---------+--------------------+--------------------+----+--------------+--------+-----+------------------+----------+----------------+-----------------+\n",
      "|Unnamed: 0|   tconst|        primaryTitle|       originalTitle|year|runtimeMinutes|numVotes|label|      log_numVotes|tconst_cat|primaryTitle_cat|originalTitle_cat|\n",
      "+----------+---------+--------------------+--------------------+----+--------------+--------+-----+------------------+----------+----------------+-----------------+\n",
      "|         2|tt0009369|              Mickey|              Mickey|1918|            93|  1119.0|false| 7.020190708311925|       0.0|           231.0|            263.0|\n",
      "|        21|tt0014945|            Girl Shy|            Girl Shy|1924|            87|  3327.0| true| 8.109826276018477|       1.0|           147.0|            154.0|\n",
      "|        52|tt0018054|   Thé King ớf Kings|   The King of Kings|1927|           160|  2081.0| true| 7.640603826393634|       2.0|           416.0|            392.0|\n",
      "|        72|tt0019429|        Street Angel|        Street Angel|1928|           102|  2314.0| true| 7.746732907753622|       3.0|           322.0|            358.0|\n",
      "|        98|tt0022599|   À Nous la Liberté|   À nous la liberté|1931|           104|  4392.0| true| 8.387539983189367|       4.0|           468.0|            475.0|\n",
      "|       154|tt0027075|A Tale of Two Cities|A Tale of Two Cities|1935|           128|  5596.0| true| 8.629807335785372|       5.0|            26.0|             21.0|\n",
      "|       161|tt0027441|Charlie Chan at t...|Charlie Chan at t...|1936|            70|  1461.0| true|   7.2868764117507|       6.0|            87.0|             87.0|\n",
      "|       219|tt0031002|  Thé Yớúng in Héárt|  The Young in Heart|1938|            90|  1332.0| true| 7.194436851100335|       7.0|           423.0|            424.0|\n",
      "|       224|tt0031149|Charlie Chan in Reno|Charlie Chan in Reno|1939|            71|  1366.0| true|7.2196420401307355|       8.0|            88.0|             88.0|\n",
      "|       241|tt0031754|    On Borrowed Time|    On Borrowed Time|1939|            99|  1896.0| true| 7.547501682814967|       9.0|           264.0|            292.0|\n",
      "|       264|tt0032484|Foreign Correspon...|Foreign Correspon...|1940|           120| 19974.0| true|  9.90218670680308|      10.0|           137.0|            144.0|\n",
      "|       269|tt0032701|          The Letter|          The Letter|1940|            95| 12714.0| true| 9.450459027496354|      11.0|           372.0|            395.0|\n",
      "|       285|tt0033532|All That Money Ca...|All That Money Ca...|1941|           107|  4908.0| true| 8.498621805830801|      12.0|            37.0|             33.0|\n",
      "|       298|tt0033873|            Man Hunt|            Man Hunt|1941|           105|  5231.0| true| 8.562357743370612|      13.0|           221.0|            250.0|\n",
      "|       299|tt0033874|The Man Who Came ...|The Man Who Came ...|1942|           112|  7446.0| true| 8.915432254432663|      14.0|           377.0|            399.0|\n",
      "|       419|tt0038975|The Spiral Staircase|The Spiral Staircase|1946|            83|  9752.0| true| 9.185227671161108|      15.0|           398.0|            417.0|\n",
      "|       459|tt0040495|      Johnny Belinda|      Johnny Belinda|1948|           102|  4659.0| true| 8.446556111816797|      16.0|           188.0|            201.0|\n",
      "|       521|tt0042898|The Rocking Horse...|The Rocking Horse...|1949|            91|  1137.0| true| 7.036148493750536|      17.0|           394.0|            411.0|\n",
      "|       556|tt0044418|      Big Jim McLáin|      Big Jim McLain|1952|            90|  2109.0|false| 7.653969180478774|      18.0|            62.0|             61.0|\n",
      "|       597|tt0046031|     The Man Between|     The Man Between|1953|           100|  1985.0| true|  7.59337419312129|      19.0|           376.0|            398.0|\n",
      "+----------+---------+--------------------+--------------------+----+--------------+--------+-----+------------------+----------+----------------+-----------------+\n",
      "only showing top 20 rows\n",
      "\n"
     ]
    }
   ],
   "source": [
    "indexed.show()"
   ]
  },
  {
   "cell_type": "code",
   "execution_count": 44,
   "id": "c99e1dea-f93f-4cd7-9e5b-1d15d6c93118",
   "metadata": {},
   "outputs": [],
   "source": [
    "# Nead to conver the boolean to string and then categorical \n",
    "from pyspark.sql.functions import col"
   ]
  },
  {
   "cell_type": "code",
   "execution_count": 45,
   "id": "954a77ad-a4b0-418b-a7f5-35d224f185d1",
   "metadata": {},
   "outputs": [],
   "source": [
    "indexed = indexed.withColumn(\"label_str\", col(\"label\").cast(\"string\"))"
   ]
  },
  {
   "cell_type": "code",
   "execution_count": 46,
   "id": "350dab81-24c5-4d6f-9676-bdc2fa263d0c",
   "metadata": {},
   "outputs": [
    {
     "name": "stderr",
     "output_type": "stream",
     "text": [
      "                                                                                \r"
     ]
    },
    {
     "name": "stdout",
     "output_type": "stream",
     "text": [
      "+----------+---------+--------------------+--------------------+----+--------------+--------+-----+------------------+----------+----------------+-----------------+---------+\n",
      "|Unnamed: 0|   tconst|        primaryTitle|       originalTitle|year|runtimeMinutes|numVotes|label|      log_numVotes|tconst_cat|primaryTitle_cat|originalTitle_cat|label_str|\n",
      "+----------+---------+--------------------+--------------------+----+--------------+--------+-----+------------------+----------+----------------+-----------------+---------+\n",
      "|         2|tt0009369|              Mickey|              Mickey|1918|            93|  1119.0|false| 7.020190708311925|       0.0|           231.0|            263.0|    false|\n",
      "|        21|tt0014945|            Girl Shy|            Girl Shy|1924|            87|  3327.0| true| 8.109826276018477|       1.0|           147.0|            154.0|     true|\n",
      "|        52|tt0018054|   Thé King ớf Kings|   The King of Kings|1927|           160|  2081.0| true| 7.640603826393634|       2.0|           416.0|            392.0|     true|\n",
      "|        72|tt0019429|        Street Angel|        Street Angel|1928|           102|  2314.0| true| 7.746732907753622|       3.0|           322.0|            358.0|     true|\n",
      "|        98|tt0022599|   À Nous la Liberté|   À nous la liberté|1931|           104|  4392.0| true| 8.387539983189367|       4.0|           468.0|            475.0|     true|\n",
      "|       154|tt0027075|A Tale of Two Cities|A Tale of Two Cities|1935|           128|  5596.0| true| 8.629807335785372|       5.0|            26.0|             21.0|     true|\n",
      "|       161|tt0027441|Charlie Chan at t...|Charlie Chan at t...|1936|            70|  1461.0| true|   7.2868764117507|       6.0|            87.0|             87.0|     true|\n",
      "|       219|tt0031002|  Thé Yớúng in Héárt|  The Young in Heart|1938|            90|  1332.0| true| 7.194436851100335|       7.0|           423.0|            424.0|     true|\n",
      "|       224|tt0031149|Charlie Chan in Reno|Charlie Chan in Reno|1939|            71|  1366.0| true|7.2196420401307355|       8.0|            88.0|             88.0|     true|\n",
      "|       241|tt0031754|    On Borrowed Time|    On Borrowed Time|1939|            99|  1896.0| true| 7.547501682814967|       9.0|           264.0|            292.0|     true|\n",
      "|       264|tt0032484|Foreign Correspon...|Foreign Correspon...|1940|           120| 19974.0| true|  9.90218670680308|      10.0|           137.0|            144.0|     true|\n",
      "|       269|tt0032701|          The Letter|          The Letter|1940|            95| 12714.0| true| 9.450459027496354|      11.0|           372.0|            395.0|     true|\n",
      "|       285|tt0033532|All That Money Ca...|All That Money Ca...|1941|           107|  4908.0| true| 8.498621805830801|      12.0|            37.0|             33.0|     true|\n",
      "|       298|tt0033873|            Man Hunt|            Man Hunt|1941|           105|  5231.0| true| 8.562357743370612|      13.0|           221.0|            250.0|     true|\n",
      "|       299|tt0033874|The Man Who Came ...|The Man Who Came ...|1942|           112|  7446.0| true| 8.915432254432663|      14.0|           377.0|            399.0|     true|\n",
      "|       419|tt0038975|The Spiral Staircase|The Spiral Staircase|1946|            83|  9752.0| true| 9.185227671161108|      15.0|           398.0|            417.0|     true|\n",
      "|       459|tt0040495|      Johnny Belinda|      Johnny Belinda|1948|           102|  4659.0| true| 8.446556111816797|      16.0|           188.0|            201.0|     true|\n",
      "|       521|tt0042898|The Rocking Horse...|The Rocking Horse...|1949|            91|  1137.0| true| 7.036148493750536|      17.0|           394.0|            411.0|     true|\n",
      "|       556|tt0044418|      Big Jim McLáin|      Big Jim McLain|1952|            90|  2109.0|false| 7.653969180478774|      18.0|            62.0|             61.0|    false|\n",
      "|       597|tt0046031|     The Man Between|     The Man Between|1953|           100|  1985.0| true|  7.59337419312129|      19.0|           376.0|            398.0|     true|\n",
      "+----------+---------+--------------------+--------------------+----+--------------+--------+-----+------------------+----------+----------------+-----------------+---------+\n",
      "only showing top 20 rows\n",
      "\n"
     ]
    }
   ],
   "source": [
    "indexed.show()"
   ]
  },
  {
   "cell_type": "code",
   "execution_count": 47,
   "id": "b9e938b3-51de-43d4-9fd5-8ed86502acc4",
   "metadata": {},
   "outputs": [
    {
     "name": "stderr",
     "output_type": "stream",
     "text": [
      "                                                                                \r"
     ]
    }
   ],
   "source": [
    "indexer=StringIndexer(inputCol=\"label_str\",outputCol=\"label_str_cat\")\n",
    "indexed=indexer.fit(indexed).transform(indexed)"
   ]
  },
  {
   "cell_type": "code",
   "execution_count": 48,
   "id": "00de8b19-a2ec-40af-9561-a661cfc75d53",
   "metadata": {},
   "outputs": [
    {
     "name": "stderr",
     "output_type": "stream",
     "text": [
      "                                                                                \r"
     ]
    },
    {
     "name": "stdout",
     "output_type": "stream",
     "text": [
      "+----------+---------+--------------------+--------------------+----+--------------+--------+-----+------------------+----------+----------------+-----------------+---------+-------------+\n",
      "|Unnamed: 0|   tconst|        primaryTitle|       originalTitle|year|runtimeMinutes|numVotes|label|      log_numVotes|tconst_cat|primaryTitle_cat|originalTitle_cat|label_str|label_str_cat|\n",
      "+----------+---------+--------------------+--------------------+----+--------------+--------+-----+------------------+----------+----------------+-----------------+---------+-------------+\n",
      "|         2|tt0009369|              Mickey|              Mickey|1918|            93|  1119.0|false| 7.020190708311925|       0.0|           231.0|            263.0|    false|          0.0|\n",
      "|        21|tt0014945|            Girl Shy|            Girl Shy|1924|            87|  3327.0| true| 8.109826276018477|       1.0|           147.0|            154.0|     true|          1.0|\n",
      "|        52|tt0018054|   Thé King ớf Kings|   The King of Kings|1927|           160|  2081.0| true| 7.640603826393634|       2.0|           416.0|            392.0|     true|          1.0|\n",
      "|        72|tt0019429|        Street Angel|        Street Angel|1928|           102|  2314.0| true| 7.746732907753622|       3.0|           322.0|            358.0|     true|          1.0|\n",
      "|        98|tt0022599|   À Nous la Liberté|   À nous la liberté|1931|           104|  4392.0| true| 8.387539983189367|       4.0|           468.0|            475.0|     true|          1.0|\n",
      "|       154|tt0027075|A Tale of Two Cities|A Tale of Two Cities|1935|           128|  5596.0| true| 8.629807335785372|       5.0|            26.0|             21.0|     true|          1.0|\n",
      "|       161|tt0027441|Charlie Chan at t...|Charlie Chan at t...|1936|            70|  1461.0| true|   7.2868764117507|       6.0|            87.0|             87.0|     true|          1.0|\n",
      "|       219|tt0031002|  Thé Yớúng in Héárt|  The Young in Heart|1938|            90|  1332.0| true| 7.194436851100335|       7.0|           423.0|            424.0|     true|          1.0|\n",
      "|       224|tt0031149|Charlie Chan in Reno|Charlie Chan in Reno|1939|            71|  1366.0| true|7.2196420401307355|       8.0|            88.0|             88.0|     true|          1.0|\n",
      "|       241|tt0031754|    On Borrowed Time|    On Borrowed Time|1939|            99|  1896.0| true| 7.547501682814967|       9.0|           264.0|            292.0|     true|          1.0|\n",
      "|       264|tt0032484|Foreign Correspon...|Foreign Correspon...|1940|           120| 19974.0| true|  9.90218670680308|      10.0|           137.0|            144.0|     true|          1.0|\n",
      "|       269|tt0032701|          The Letter|          The Letter|1940|            95| 12714.0| true| 9.450459027496354|      11.0|           372.0|            395.0|     true|          1.0|\n",
      "|       285|tt0033532|All That Money Ca...|All That Money Ca...|1941|           107|  4908.0| true| 8.498621805830801|      12.0|            37.0|             33.0|     true|          1.0|\n",
      "|       298|tt0033873|            Man Hunt|            Man Hunt|1941|           105|  5231.0| true| 8.562357743370612|      13.0|           221.0|            250.0|     true|          1.0|\n",
      "|       299|tt0033874|The Man Who Came ...|The Man Who Came ...|1942|           112|  7446.0| true| 8.915432254432663|      14.0|           377.0|            399.0|     true|          1.0|\n",
      "|       419|tt0038975|The Spiral Staircase|The Spiral Staircase|1946|            83|  9752.0| true| 9.185227671161108|      15.0|           398.0|            417.0|     true|          1.0|\n",
      "|       459|tt0040495|      Johnny Belinda|      Johnny Belinda|1948|           102|  4659.0| true| 8.446556111816797|      16.0|           188.0|            201.0|     true|          1.0|\n",
      "|       521|tt0042898|The Rocking Horse...|The Rocking Horse...|1949|            91|  1137.0| true| 7.036148493750536|      17.0|           394.0|            411.0|     true|          1.0|\n",
      "|       556|tt0044418|      Big Jim McLáin|      Big Jim McLain|1952|            90|  2109.0|false| 7.653969180478774|      18.0|            62.0|             61.0|    false|          0.0|\n",
      "|       597|tt0046031|     The Man Between|     The Man Between|1953|           100|  1985.0| true|  7.59337419312129|      19.0|           376.0|            398.0|     true|          1.0|\n",
      "+----------+---------+--------------------+--------------------+----+--------------+--------+-----+------------------+----------+----------------+-----------------+---------+-------------+\n",
      "only showing top 20 rows\n",
      "\n"
     ]
    }
   ],
   "source": [
    "indexed.show()"
   ]
  },
  {
   "cell_type": "code",
   "execution_count": 49,
   "id": "1859968c-03cc-4f51-9b5d-eae46b86e1b1",
   "metadata": {},
   "outputs": [],
   "source": [
    "#Convert all input columns to one feature by assembler\n",
    "assembler=VectorAssembler(inputCols=[\"tconst_cat\",\"primaryTitle_cat\",\"numVotes\",\"year\",\"runtimeMinutes\",\"numVotes\",\"log_numVotes\"],\n",
    "                          outputCol=\"features\")"
   ]
  },
  {
   "cell_type": "code",
   "execution_count": 50,
   "id": "c6783693-909e-4232-8b4d-54adfe3da31e",
   "metadata": {},
   "outputs": [
    {
     "data": {
      "text/plain": [
       "VectorAssembler_49bf03d47691"
      ]
     },
     "execution_count": 50,
     "metadata": {},
     "output_type": "execute_result"
    }
   ],
   "source": [
    "assembler"
   ]
  },
  {
   "cell_type": "code",
   "execution_count": 51,
   "id": "92e60960-276d-4c3b-9199-70bda494d7c7",
   "metadata": {},
   "outputs": [],
   "source": [
    "output=assembler.transform(indexed)"
   ]
  },
  {
   "cell_type": "code",
   "execution_count": 52,
   "id": "da03071e-603e-4a49-ae7a-413f4a9ca9dc",
   "metadata": {},
   "outputs": [
    {
     "name": "stderr",
     "output_type": "stream",
     "text": [
      "                                                                                \r"
     ]
    },
    {
     "name": "stdout",
     "output_type": "stream",
     "text": [
      "+----------+---------+--------------------+--------------------+----+--------------+--------+-----+------------------+----------+----------------+-----------------+---------+-------------+--------------------+\n",
      "|Unnamed: 0|   tconst|        primaryTitle|       originalTitle|year|runtimeMinutes|numVotes|label|      log_numVotes|tconst_cat|primaryTitle_cat|originalTitle_cat|label_str|label_str_cat|            features|\n",
      "+----------+---------+--------------------+--------------------+----+--------------+--------+-----+------------------+----------+----------------+-----------------+---------+-------------+--------------------+\n",
      "|         2|tt0009369|              Mickey|              Mickey|1918|            93|  1119.0|false| 7.020190708311925|       0.0|           231.0|            263.0|    false|          0.0|[0.0,231.0,1119.0...|\n",
      "|        21|tt0014945|            Girl Shy|            Girl Shy|1924|            87|  3327.0| true| 8.109826276018477|       1.0|           147.0|            154.0|     true|          1.0|[1.0,147.0,3327.0...|\n",
      "|        52|tt0018054|   Thé King ớf Kings|   The King of Kings|1927|           160|  2081.0| true| 7.640603826393634|       2.0|           416.0|            392.0|     true|          1.0|[2.0,416.0,2081.0...|\n",
      "|        72|tt0019429|        Street Angel|        Street Angel|1928|           102|  2314.0| true| 7.746732907753622|       3.0|           322.0|            358.0|     true|          1.0|[3.0,322.0,2314.0...|\n",
      "|        98|tt0022599|   À Nous la Liberté|   À nous la liberté|1931|           104|  4392.0| true| 8.387539983189367|       4.0|           468.0|            475.0|     true|          1.0|[4.0,468.0,4392.0...|\n",
      "|       154|tt0027075|A Tale of Two Cities|A Tale of Two Cities|1935|           128|  5596.0| true| 8.629807335785372|       5.0|            26.0|             21.0|     true|          1.0|[5.0,26.0,5596.0,...|\n",
      "|       161|tt0027441|Charlie Chan at t...|Charlie Chan at t...|1936|            70|  1461.0| true|   7.2868764117507|       6.0|            87.0|             87.0|     true|          1.0|[6.0,87.0,1461.0,...|\n",
      "|       219|tt0031002|  Thé Yớúng in Héárt|  The Young in Heart|1938|            90|  1332.0| true| 7.194436851100335|       7.0|           423.0|            424.0|     true|          1.0|[7.0,423.0,1332.0...|\n",
      "|       224|tt0031149|Charlie Chan in Reno|Charlie Chan in Reno|1939|            71|  1366.0| true|7.2196420401307355|       8.0|            88.0|             88.0|     true|          1.0|[8.0,88.0,1366.0,...|\n",
      "|       241|tt0031754|    On Borrowed Time|    On Borrowed Time|1939|            99|  1896.0| true| 7.547501682814967|       9.0|           264.0|            292.0|     true|          1.0|[9.0,264.0,1896.0...|\n",
      "|       264|tt0032484|Foreign Correspon...|Foreign Correspon...|1940|           120| 19974.0| true|  9.90218670680308|      10.0|           137.0|            144.0|     true|          1.0|[10.0,137.0,19974...|\n",
      "|       269|tt0032701|          The Letter|          The Letter|1940|            95| 12714.0| true| 9.450459027496354|      11.0|           372.0|            395.0|     true|          1.0|[11.0,372.0,12714...|\n",
      "|       285|tt0033532|All That Money Ca...|All That Money Ca...|1941|           107|  4908.0| true| 8.498621805830801|      12.0|            37.0|             33.0|     true|          1.0|[12.0,37.0,4908.0...|\n",
      "|       298|tt0033873|            Man Hunt|            Man Hunt|1941|           105|  5231.0| true| 8.562357743370612|      13.0|           221.0|            250.0|     true|          1.0|[13.0,221.0,5231....|\n",
      "|       299|tt0033874|The Man Who Came ...|The Man Who Came ...|1942|           112|  7446.0| true| 8.915432254432663|      14.0|           377.0|            399.0|     true|          1.0|[14.0,377.0,7446....|\n",
      "|       419|tt0038975|The Spiral Staircase|The Spiral Staircase|1946|            83|  9752.0| true| 9.185227671161108|      15.0|           398.0|            417.0|     true|          1.0|[15.0,398.0,9752....|\n",
      "|       459|tt0040495|      Johnny Belinda|      Johnny Belinda|1948|           102|  4659.0| true| 8.446556111816797|      16.0|           188.0|            201.0|     true|          1.0|[16.0,188.0,4659....|\n",
      "|       521|tt0042898|The Rocking Horse...|The Rocking Horse...|1949|            91|  1137.0| true| 7.036148493750536|      17.0|           394.0|            411.0|     true|          1.0|[17.0,394.0,1137....|\n",
      "|       556|tt0044418|      Big Jim McLáin|      Big Jim McLain|1952|            90|  2109.0|false| 7.653969180478774|      18.0|            62.0|             61.0|    false|          0.0|[18.0,62.0,2109.0...|\n",
      "|       597|tt0046031|     The Man Between|     The Man Between|1953|           100|  1985.0| true|  7.59337419312129|      19.0|           376.0|            398.0|     true|          1.0|[19.0,376.0,1985....|\n",
      "+----------+---------+--------------------+--------------------+----+--------------+--------+-----+------------------+----------+----------------+-----------------+---------+-------------+--------------------+\n",
      "only showing top 20 rows\n",
      "\n"
     ]
    }
   ],
   "source": [
    "output.show()"
   ]
  },
  {
   "cell_type": "code",
   "execution_count": 53,
   "id": "ad77c487-0850-43d1-bff1-86a6fdc31bed",
   "metadata": {},
   "outputs": [
    {
     "name": "stderr",
     "output_type": "stream",
     "text": [
      "[Stage 25:>                                                         (0 + 1) / 1]\r"
     ]
    },
    {
     "name": "stdout",
     "output_type": "stream",
     "text": [
      "+----------------------------------------------------------+-------------+\n",
      "|features                                                  |label_str_cat|\n",
      "+----------------------------------------------------------+-------------+\n",
      "|[0.0,231.0,1119.0,1918.0,93.0,1119.0,7.020190708311925]   |0.0          |\n",
      "|[1.0,147.0,3327.0,1924.0,87.0,3327.0,8.109826276018477]   |1.0          |\n",
      "|[2.0,416.0,2081.0,1927.0,160.0,2081.0,7.640603826393634]  |1.0          |\n",
      "|[3.0,322.0,2314.0,1928.0,102.0,2314.0,7.746732907753622]  |1.0          |\n",
      "|[4.0,468.0,4392.0,1931.0,104.0,4392.0,8.387539983189367]  |1.0          |\n",
      "|[5.0,26.0,5596.0,1935.0,128.0,5596.0,8.629807335785372]   |1.0          |\n",
      "|[6.0,87.0,1461.0,1936.0,70.0,1461.0,7.2868764117507]      |1.0          |\n",
      "|[7.0,423.0,1332.0,1938.0,90.0,1332.0,7.194436851100335]   |1.0          |\n",
      "|[8.0,88.0,1366.0,1939.0,71.0,1366.0,7.2196420401307355]   |1.0          |\n",
      "|[9.0,264.0,1896.0,1939.0,99.0,1896.0,7.547501682814967]   |1.0          |\n",
      "|[10.0,137.0,19974.0,1940.0,120.0,19974.0,9.90218670680308]|1.0          |\n",
      "|[11.0,372.0,12714.0,1940.0,95.0,12714.0,9.450459027496354]|1.0          |\n",
      "|[12.0,37.0,4908.0,1941.0,107.0,4908.0,8.498621805830801]  |1.0          |\n",
      "|[13.0,221.0,5231.0,1941.0,105.0,5231.0,8.562357743370612] |1.0          |\n",
      "|[14.0,377.0,7446.0,1942.0,112.0,7446.0,8.915432254432663] |1.0          |\n",
      "|[15.0,398.0,9752.0,1946.0,83.0,9752.0,9.185227671161108]  |1.0          |\n",
      "|[16.0,188.0,4659.0,1948.0,102.0,4659.0,8.446556111816797] |1.0          |\n",
      "|[17.0,394.0,1137.0,1949.0,91.0,1137.0,7.036148493750536]  |1.0          |\n",
      "|[18.0,62.0,2109.0,1952.0,90.0,2109.0,7.653969180478774]   |0.0          |\n",
      "|[19.0,376.0,1985.0,1953.0,100.0,1985.0,7.59337419312129]  |1.0          |\n",
      "+----------------------------------------------------------+-------------+\n",
      "only showing top 20 rows\n",
      "\n"
     ]
    },
    {
     "name": "stderr",
     "output_type": "stream",
     "text": [
      "                                                                                \r"
     ]
    }
   ],
   "source": [
    "output.select(\"features\",\"label_str_cat\").show(truncate=False)"
   ]
  },
  {
   "cell_type": "code",
   "execution_count": 54,
   "id": "0c8760cf-02fb-4de5-a616-282c7a1c0b7e",
   "metadata": {},
   "outputs": [],
   "source": [
    "model_df=output.select(\"features\",\"label_str_cat\")"
   ]
  },
  {
   "cell_type": "code",
   "execution_count": 55,
   "id": "7d6504a7-6283-4905-9b80-300e28f226c7",
   "metadata": {},
   "outputs": [
    {
     "name": "stdout",
     "output_type": "stream",
     "text": [
      "+--------------------+-------------+\n",
      "|            features|label_str_cat|\n",
      "+--------------------+-------------+\n",
      "|[0.0,231.0,1119.0...|          0.0|\n",
      "|[1.0,147.0,3327.0...|          1.0|\n",
      "|[2.0,416.0,2081.0...|          1.0|\n",
      "|[3.0,322.0,2314.0...|          1.0|\n",
      "|[4.0,468.0,4392.0...|          1.0|\n",
      "|[5.0,26.0,5596.0,...|          1.0|\n",
      "|[6.0,87.0,1461.0,...|          1.0|\n",
      "|[7.0,423.0,1332.0...|          1.0|\n",
      "|[8.0,88.0,1366.0,...|          1.0|\n",
      "|[9.0,264.0,1896.0...|          1.0|\n",
      "|[10.0,137.0,19974...|          1.0|\n",
      "|[11.0,372.0,12714...|          1.0|\n",
      "|[12.0,37.0,4908.0...|          1.0|\n",
      "|[13.0,221.0,5231....|          1.0|\n",
      "|[14.0,377.0,7446....|          1.0|\n",
      "|[15.0,398.0,9752....|          1.0|\n",
      "|[16.0,188.0,4659....|          1.0|\n",
      "|[17.0,394.0,1137....|          1.0|\n",
      "|[18.0,62.0,2109.0...|          0.0|\n",
      "|[19.0,376.0,1985....|          1.0|\n",
      "+--------------------+-------------+\n",
      "only showing top 20 rows\n",
      "\n"
     ]
    }
   ],
   "source": [
    "model_df.show()"
   ]
  },
  {
   "cell_type": "code",
   "execution_count": 56,
   "id": "6f308992-cab4-4591-a889-8da99d8f8af9",
   "metadata": {},
   "outputs": [],
   "source": [
    "training_df, test_df=model_df.randomSplit([0.8,0.2])"
   ]
  },
  {
   "cell_type": "code",
   "execution_count": 57,
   "id": "3d06fbb1-f761-4be0-bd78-c05d9f7c19a5",
   "metadata": {},
   "outputs": [
    {
     "name": "stderr",
     "output_type": "stream",
     "text": [
      "                                                                                \r"
     ]
    },
    {
     "data": {
      "text/plain": [
       "367"
      ]
     },
     "execution_count": 57,
     "metadata": {},
     "output_type": "execute_result"
    }
   ],
   "source": [
    "training_df.count()"
   ]
  },
  {
   "cell_type": "code",
   "execution_count": 58,
   "id": "df0ac3d5-cf74-4e9c-8dd4-44861dc57de8",
   "metadata": {},
   "outputs": [
    {
     "name": "stderr",
     "output_type": "stream",
     "text": [
      "                                                                                \r"
     ]
    },
    {
     "data": {
      "text/plain": [
       "109"
      ]
     },
     "execution_count": 58,
     "metadata": {},
     "output_type": "execute_result"
    }
   ],
   "source": [
    "test_df.count()"
   ]
  },
  {
   "cell_type": "code",
   "execution_count": 59,
   "id": "42d8772e-e179-41a1-9e39-e6ae5a79191c",
   "metadata": {},
   "outputs": [],
   "source": [
    "#From pyspark import logistic regression\n",
    "from pyspark.ml.classification import LogisticRegression"
   ]
  },
  {
   "cell_type": "code",
   "execution_count": 60,
   "id": "1fcb0dfa-0704-4481-be6c-5a48a69dd816",
   "metadata": {},
   "outputs": [
    {
     "name": "stderr",
     "output_type": "stream",
     "text": [
      "23/03/20 07:11:51 WARN InstanceBuilder$NativeBLAS: Failed to load implementation from:dev.ludovic.netlib.blas.JNIBLAS\n",
      "23/03/20 07:11:51 WARN InstanceBuilder$NativeBLAS: Failed to load implementation from:dev.ludovic.netlib.blas.ForeignLinkerBLAS\n",
      "                                                                                \r"
     ]
    }
   ],
   "source": [
    "log_req=LogisticRegression(labelCol=\"label_str_cat\").fit(training_df)"
   ]
  },
  {
   "cell_type": "code",
   "execution_count": 61,
   "id": "7a5b766e-f43b-4897-85a3-5ad47f0532b0",
   "metadata": {},
   "outputs": [
    {
     "data": {
      "text/plain": [
       "LogisticRegressionModel: uid=LogisticRegression_61090cc6747d, numClasses=2, numFeatures=7"
      ]
     },
     "execution_count": 61,
     "metadata": {},
     "output_type": "execute_result"
    }
   ],
   "source": [
    "log_req"
   ]
  },
  {
   "cell_type": "code",
   "execution_count": 62,
   "id": "bacf7a4b-0d20-4eed-8fbb-4a25b416e73b",
   "metadata": {},
   "outputs": [
    {
     "name": "stderr",
     "output_type": "stream",
     "text": [
      "/usr/local/spark/python/pyspark/sql/context.py:125: FutureWarning: Deprecated in 3.0.0. Use SparkSession.builder.getOrCreate() instead.\n",
      "  warnings.warn(\n"
     ]
    }
   ],
   "source": [
    "train_results=log_req.evaluate(training_df).predictions"
   ]
  },
  {
   "cell_type": "code",
   "execution_count": 63,
   "id": "5920e541-3094-4945-9e3e-653b94c465f9",
   "metadata": {},
   "outputs": [
    {
     "name": "stderr",
     "output_type": "stream",
     "text": [
      "                                                                                \r"
     ]
    },
    {
     "name": "stdout",
     "output_type": "stream",
     "text": [
      "+--------------------+-------------+--------------------+--------------------+----------+\n",
      "|            features|label_str_cat|       rawPrediction|         probability|prediction|\n",
      "+--------------------+-------------+--------------------+--------------------+----------+\n",
      "|[0.0,231.0,1119.0...|          0.0|[-2.8777842092311...|[0.05326275896504...|       1.0|\n",
      "|[1.0,147.0,3327.0...|          1.0|[-2.6391681902494...|[0.06665976900301...|       1.0|\n",
      "|[3.0,322.0,2314.0...|          1.0|[-2.8811374407523...|[0.05309392253479...|       1.0|\n",
      "|[4.0,468.0,4392.0...|          1.0|[-2.9085603056598...|[0.05173201528146...|       1.0|\n",
      "|[5.0,26.0,5596.0,...|          1.0|[-4.1178622618651...|[0.01601850835223...|       1.0|\n",
      "|[6.0,87.0,1461.0,...|          1.0|[-0.9817149544444...|[0.27255163177729...|       1.0|\n",
      "|[7.0,423.0,1332.0...|          1.0|[-1.5469925407872...|[0.17552106324541...|       1.0|\n",
      "|[10.0,137.0,19974...|          1.0|[-3.8502007010261...|[0.02083225017171...|       1.0|\n",
      "|[12.0,37.0,4908.0...|          1.0|[-2.7944867068891...|[0.05762283200874...|       1.0|\n",
      "|[13.0,221.0,5231....|          1.0|[-2.6148939204158...|[0.06818600243681...|       1.0|\n",
      "|[14.0,377.0,7446....|          1.0|[-2.8963004588198...|[0.05233674789888...|       1.0|\n",
      "|[15.0,398.0,9752....|          1.0|[-1.4263652666729...|[0.19366564961263...|       1.0|\n",
      "|[16.0,188.0,4659....|          1.0|[-2.0694438949407...|[0.11210237877725...|       1.0|\n",
      "|[18.0,62.0,2109.0...|          0.0|[-1.1360036606188...|[0.24305484909700...|       1.0|\n",
      "|[19.0,376.0,1985....|          1.0|[-1.3269755487047...|[0.20966008498758...|       1.0|\n",
      "|[20.0,190.0,10024...|          1.0|[-1.2099490250804...|[0.22971007050236...|       1.0|\n",
      "|[21.0,5.0,32615.0...|          1.0|[-3.6809249745513...|[0.02458024140856...|       1.0|\n",
      "|[22.0,43.0,16651....|          1.0|[-0.8930534651374...|[0.29048010157184...|       1.0|\n",
      "|[23.0,77.0,11596....|          1.0|[-1.8148598531298...|[0.14005179368539...|       1.0|\n",
      "|[24.0,314.0,13273...|          1.0|[-2.2785776089760...|[0.09291276281160...|       1.0|\n",
      "+--------------------+-------------+--------------------+--------------------+----------+\n",
      "only showing top 20 rows\n",
      "\n"
     ]
    }
   ],
   "source": [
    "train_results.show()"
   ]
  },
  {
   "cell_type": "code",
   "execution_count": 64,
   "id": "4690f2c5-6103-424f-a0cb-bdc01b255c6b",
   "metadata": {},
   "outputs": [],
   "source": [
    "results = log_req.evaluate(test_df).predictions"
   ]
  },
  {
   "cell_type": "code",
   "execution_count": 65,
   "id": "5fe6ab6d-8cf3-4e35-9f41-2942eb0763d2",
   "metadata": {},
   "outputs": [
    {
     "name": "stderr",
     "output_type": "stream",
     "text": [
      "                                                                                \r"
     ]
    },
    {
     "name": "stdout",
     "output_type": "stream",
     "text": [
      "+--------------------+-------------+--------------------+--------------------+----------+\n",
      "|            features|label_str_cat|       rawPrediction|         probability|prediction|\n",
      "+--------------------+-------------+--------------------+--------------------+----------+\n",
      "|[2.0,416.0,2081.0...|          1.0|[-5.4832198633318...|[0.00413872637263...|       1.0|\n",
      "|[8.0,88.0,1366.0,...|          1.0|[-0.8408389056067...|[0.30135813020265...|       1.0|\n",
      "|[9.0,264.0,1896.0...|          1.0|[-2.1075915586360...|[0.10836114858402...|       1.0|\n",
      "|[11.0,372.0,12714...|          1.0|[-2.4098375950151...|[0.08242560024716...|       1.0|\n",
      "|[17.0,394.0,1137....|          1.0|[-0.9651156671258...|[0.27585512307219...|       1.0|\n",
      "|[26.0,326.0,1842....|          0.0|[-0.4601157295530...|[0.38695836995297...|       1.0|\n",
      "|[32.0,447.0,38631...|          1.0|[-5.5978109727806...|[0.00369228382392...|       1.0|\n",
      "|[38.0,92.0,2870.0...|          1.0|[-0.5366908379669...|[0.36895771291131...|       1.0|\n",
      "|[39.0,246.0,3154....|          1.0|[-1.6117275988102...|[0.16634889733950...|       1.0|\n",
      "|[43.0,41.0,8764.0...|          1.0|[-2.1516150587498...|[0.10418039839941...|       1.0|\n",
      "|[52.0,402.0,2525....|          1.0|[-0.8776951978470...|[0.29365561810580...|       1.0|\n",
      "|[64.0,407.0,1350....|          0.0|[-3.3287325351978...|[0.03459854052481...|       1.0|\n",
      "|[76.0,456.0,9496....|          1.0|[0.43598248918249...|[0.60730132309078...|       0.0|\n",
      "|[77.0,262.0,2516....|          0.0|[-0.2576094619379...|[0.43595144593723...|       1.0|\n",
      "|[80.0,162.0,5089....|          0.0|[-0.3634056789207...|[0.41013539783093...|       1.0|\n",
      "|[85.0,121.0,1078....|          1.0|[-0.5510642006665...|[0.36561754156356...|       1.0|\n",
      "|[87.0,357.0,1129....|          0.0|[1.08466701593677...|[0.74737615633055...|       0.0|\n",
      "|[89.0,112.0,1093....|          0.0|[0.71011785242217...|[0.67042720036306...|       0.0|\n",
      "|[90.0,70.0,1721.0...|          0.0|[0.42237151863841...|[0.60405059394664...|       0.0|\n",
      "|[92.0,203.0,2417....|          0.0|[0.03093568332002...|[0.50773330409820...|       0.0|\n",
      "+--------------------+-------------+--------------------+--------------------+----------+\n",
      "only showing top 20 rows\n",
      "\n"
     ]
    }
   ],
   "source": [
    "results.show()"
   ]
  },
  {
   "cell_type": "code",
   "execution_count": 66,
   "id": "107791e0-9211-4c4b-8f67-40ea43486819",
   "metadata": {},
   "outputs": [
    {
     "name": "stderr",
     "output_type": "stream",
     "text": [
      "                                                                                \r"
     ]
    },
    {
     "name": "stdout",
     "output_type": "stream",
     "text": [
      "+-------------+----------+\n",
      "|label_str_cat|prediction|\n",
      "+-------------+----------+\n",
      "|          1.0|       1.0|\n",
      "|          1.0|       1.0|\n",
      "|          1.0|       1.0|\n",
      "|          1.0|       1.0|\n",
      "|          1.0|       1.0|\n",
      "|          0.0|       1.0|\n",
      "|          1.0|       1.0|\n",
      "|          1.0|       1.0|\n",
      "|          1.0|       1.0|\n",
      "|          1.0|       1.0|\n",
      "|          1.0|       1.0|\n",
      "|          0.0|       1.0|\n",
      "|          1.0|       0.0|\n",
      "|          0.0|       1.0|\n",
      "|          0.0|       1.0|\n",
      "|          1.0|       1.0|\n",
      "|          0.0|       0.0|\n",
      "|          0.0|       0.0|\n",
      "|          0.0|       0.0|\n",
      "|          0.0|       0.0|\n",
      "|          1.0|       1.0|\n",
      "|          0.0|       1.0|\n",
      "|          0.0|       0.0|\n",
      "|          1.0|       0.0|\n",
      "|          1.0|       1.0|\n",
      "|          0.0|       1.0|\n",
      "|          0.0|       1.0|\n",
      "|          0.0|       1.0|\n",
      "|          1.0|       0.0|\n",
      "|          0.0|       0.0|\n",
      "|          0.0|       0.0|\n",
      "|          0.0|       0.0|\n",
      "|          0.0|       0.0|\n",
      "|          1.0|       0.0|\n",
      "|          0.0|       1.0|\n",
      "|          0.0|       1.0|\n",
      "|          0.0|       1.0|\n",
      "|          1.0|       1.0|\n",
      "|          1.0|       0.0|\n",
      "|          1.0|       1.0|\n",
      "|          1.0|       0.0|\n",
      "|          0.0|       0.0|\n",
      "|          0.0|       0.0|\n",
      "|          0.0|       0.0|\n",
      "|          1.0|       0.0|\n",
      "|          1.0|       1.0|\n",
      "|          1.0|       1.0|\n",
      "|          1.0|       1.0|\n",
      "|          1.0|       0.0|\n",
      "|          0.0|       1.0|\n",
      "|          0.0|       0.0|\n",
      "|          1.0|       1.0|\n",
      "|          1.0|       1.0|\n",
      "|          1.0|       0.0|\n",
      "|          1.0|       1.0|\n",
      "|          1.0|       0.0|\n",
      "|          0.0|       0.0|\n",
      "|          0.0|       0.0|\n",
      "|          0.0|       1.0|\n",
      "|          1.0|       1.0|\n",
      "|          0.0|       0.0|\n",
      "|          0.0|       1.0|\n",
      "|          1.0|       0.0|\n",
      "|          1.0|       1.0|\n",
      "|          1.0|       1.0|\n",
      "|          0.0|       0.0|\n",
      "|          1.0|       0.0|\n",
      "|          1.0|       0.0|\n",
      "|          0.0|       0.0|\n",
      "|          0.0|       1.0|\n",
      "|          0.0|       0.0|\n",
      "|          1.0|       1.0|\n",
      "|          0.0|       0.0|\n",
      "|          1.0|       1.0|\n",
      "|          1.0|       0.0|\n",
      "|          1.0|       1.0|\n",
      "|          1.0|       1.0|\n",
      "|          0.0|       0.0|\n",
      "|          0.0|       0.0|\n",
      "|          1.0|       0.0|\n",
      "|          0.0|       0.0|\n",
      "|          0.0|       0.0|\n",
      "|          0.0|       0.0|\n",
      "|          1.0|       1.0|\n",
      "|          0.0|       0.0|\n",
      "|          1.0|       0.0|\n",
      "|          0.0|       0.0|\n",
      "|          0.0|       0.0|\n",
      "|          0.0|       0.0|\n",
      "|          0.0|       0.0|\n",
      "|          0.0|       1.0|\n",
      "|          1.0|       1.0|\n",
      "|          0.0|       0.0|\n",
      "|          1.0|       0.0|\n",
      "|          0.0|       0.0|\n",
      "|          0.0|       0.0|\n",
      "|          1.0|       1.0|\n",
      "|          1.0|       0.0|\n",
      "|          0.0|       0.0|\n",
      "|          1.0|       1.0|\n",
      "+-------------+----------+\n",
      "only showing top 100 rows\n",
      "\n"
     ]
    }
   ],
   "source": [
    "results.select([\"label_str_cat\", \"prediction\"]).show(100)"
   ]
  },
  {
   "cell_type": "code",
   "execution_count": 67,
   "id": "fcc5bf7e-5894-4b12-aaf7-d1d0845e8775",
   "metadata": {},
   "outputs": [],
   "source": [
    "results1 = results.withColumnRenamed(\"label_str_cat\", \"label\")"
   ]
  },
  {
   "cell_type": "code",
   "execution_count": 68,
   "id": "9b1fbc2a-641b-4365-8386-0d92809e1b33",
   "metadata": {},
   "outputs": [
    {
     "name": "stderr",
     "output_type": "stream",
     "text": [
      "                                                                                \r"
     ]
    },
    {
     "name": "stdout",
     "output_type": "stream",
     "text": [
      "Accuracy: 0.6422018348623854\n"
     ]
    },
    {
     "name": "stderr",
     "output_type": "stream",
     "text": [
      "                                                                                \r"
     ]
    },
    {
     "name": "stdout",
     "output_type": "stream",
     "text": [
      "Precision: 0.6428146937562678\n"
     ]
    },
    {
     "name": "stderr",
     "output_type": "stream",
     "text": [
      "                                                                                \r"
     ]
    },
    {
     "name": "stdout",
     "output_type": "stream",
     "text": [
      "F1 score: 0.6420210830739854\n"
     ]
    },
    {
     "name": "stderr",
     "output_type": "stream",
     "text": [
      "                                                                                \r"
     ]
    },
    {
     "name": "stdout",
     "output_type": "stream",
     "text": [
      "Recall: 0.6422018348623854\n"
     ]
    },
    {
     "name": "stderr",
     "output_type": "stream",
     "text": [
      "                                                                                \r"
     ]
    },
    {
     "name": "stdout",
     "output_type": "stream",
     "text": [
      "Area under ROC: 0.7225589225589224\n"
     ]
    },
    {
     "name": "stderr",
     "output_type": "stream",
     "text": [
      "                                                                                \r"
     ]
    }
   ],
   "source": [
    "from pyspark.ml.evaluation import BinaryClassificationEvaluator, MulticlassClassificationEvaluator\n",
    "\n",
    "# Evaluate multiclass classification\n",
    "evaluator = MulticlassClassificationEvaluator(labelCol=\"label\", metricName=\"accuracy\")\n",
    "print(\"Accuracy:\", evaluator.evaluate(results1))\n",
    "evaluator = MulticlassClassificationEvaluator(labelCol=\"label\", metricName=\"weightedPrecision\")\n",
    "print(\"Precision:\", evaluator.evaluate(results1))\n",
    "evaluator = MulticlassClassificationEvaluator(labelCol=\"label\", metricName=\"f1\")\n",
    "print(\"F1 score:\", evaluator.evaluate(results1))\n",
    "evaluator = MulticlassClassificationEvaluator(labelCol=\"label\", metricName=\"weightedRecall\")\n",
    "print(\"Recall:\", evaluator.evaluate(results1))\n",
    "# Evaluate binary classification\n",
    "evaluator = BinaryClassificationEvaluator(labelCol=\"label\")\n",
    "print(\"Area under ROC:\", evaluator.evaluate(results1))"
   ]
  },
  {
   "cell_type": "code",
   "execution_count": 69,
   "id": "6b9e058c-32c6-4fe7-a370-2ea36dc72387",
   "metadata": {},
   "outputs": [
    {
     "name": "stderr",
     "output_type": "stream",
     "text": [
      "                                                                                \r"
     ]
    }
   ],
   "source": [
    "tp=results[(results.label_str_cat==1) & (results.prediction==1)].count()"
   ]
  },
  {
   "cell_type": "code",
   "execution_count": 70,
   "id": "fb80afdb-391a-428f-af62-d35f2228da2e",
   "metadata": {},
   "outputs": [
    {
     "data": {
      "text/plain": [
       "34"
      ]
     },
     "execution_count": 70,
     "metadata": {},
     "output_type": "execute_result"
    }
   ],
   "source": [
    "tp"
   ]
  },
  {
   "cell_type": "code",
   "execution_count": 71,
   "id": "ceaea07c-a034-4177-a8b9-88cf4427b0b7",
   "metadata": {},
   "outputs": [
    {
     "name": "stderr",
     "output_type": "stream",
     "text": [
      "                                                                                \r"
     ]
    }
   ],
   "source": [
    "tn=results[(results.label_str_cat==0) & (results.prediction==0)].count()"
   ]
  },
  {
   "cell_type": "code",
   "execution_count": 72,
   "id": "4b16b104-5ea7-42cc-ad57-4c8ccb617f68",
   "metadata": {},
   "outputs": [
    {
     "data": {
      "text/plain": [
       "36"
      ]
     },
     "execution_count": 72,
     "metadata": {},
     "output_type": "execute_result"
    }
   ],
   "source": [
    "tn"
   ]
  },
  {
   "cell_type": "code",
   "execution_count": 73,
   "id": "41b0e550-5440-43bc-89ab-045c8fd9a6b6",
   "metadata": {},
   "outputs": [
    {
     "name": "stderr",
     "output_type": "stream",
     "text": [
      "                                                                                \r"
     ]
    }
   ],
   "source": [
    "fp=results[(results.label_str_cat==0) & (results.prediction==1)].count()"
   ]
  },
  {
   "cell_type": "code",
   "execution_count": 74,
   "id": "1be2eaff-477e-467d-a040-1976cc2ae670",
   "metadata": {},
   "outputs": [
    {
     "data": {
      "text/plain": [
       "18"
      ]
     },
     "execution_count": 74,
     "metadata": {},
     "output_type": "execute_result"
    }
   ],
   "source": [
    "fp"
   ]
  },
  {
   "cell_type": "code",
   "execution_count": 75,
   "id": "24aef72f-0931-4851-809d-cb53e98cf8ea",
   "metadata": {},
   "outputs": [
    {
     "name": "stderr",
     "output_type": "stream",
     "text": [
      "                                                                                \r"
     ]
    }
   ],
   "source": [
    "fn=results[(results.label_str_cat==1) & (results.prediction==0)].count()"
   ]
  },
  {
   "cell_type": "code",
   "execution_count": 76,
   "id": "58047999-63c4-4af4-a107-aca9c5740f9e",
   "metadata": {},
   "outputs": [
    {
     "data": {
      "text/plain": [
       "21"
      ]
     },
     "execution_count": 76,
     "metadata": {},
     "output_type": "execute_result"
    }
   ],
   "source": [
    "fn"
   ]
  },
  {
   "cell_type": "code",
   "execution_count": 77,
   "id": "fff4a5e6-aee8-4591-aab4-280054a55734",
   "metadata": {},
   "outputs": [
    {
     "name": "stderr",
     "output_type": "stream",
     "text": [
      "                                                                                \r"
     ]
    },
    {
     "name": "stdout",
     "output_type": "stream",
     "text": [
      "+--------------------+-------------+--------------------+--------------------+----------+\n",
      "|            features|label_str_cat|       rawPrediction|         probability|prediction|\n",
      "+--------------------+-------------+--------------------+--------------------+----------+\n",
      "|[2.0,416.0,2081.0...|          1.0|[-5.4832198633318...|[0.00413872637263...|       1.0|\n",
      "|[8.0,88.0,1366.0,...|          1.0|[-0.8408389056067...|[0.30135813020265...|       1.0|\n",
      "|[9.0,264.0,1896.0...|          1.0|[-2.1075915586360...|[0.10836114858402...|       1.0|\n",
      "|[11.0,372.0,12714...|          1.0|[-2.4098375950151...|[0.08242560024716...|       1.0|\n",
      "|[17.0,394.0,1137....|          1.0|[-0.9651156671258...|[0.27585512307219...|       1.0|\n",
      "|[26.0,326.0,1842....|          0.0|[-0.4601157295530...|[0.38695836995297...|       1.0|\n",
      "|[32.0,447.0,38631...|          1.0|[-5.5978109727806...|[0.00369228382392...|       1.0|\n",
      "|[38.0,92.0,2870.0...|          1.0|[-0.5366908379669...|[0.36895771291131...|       1.0|\n",
      "|[39.0,246.0,3154....|          1.0|[-1.6117275988102...|[0.16634889733950...|       1.0|\n",
      "|[43.0,41.0,8764.0...|          1.0|[-2.1516150587498...|[0.10418039839941...|       1.0|\n",
      "|[52.0,402.0,2525....|          1.0|[-0.8776951978470...|[0.29365561810580...|       1.0|\n",
      "|[64.0,407.0,1350....|          0.0|[-3.3287325351978...|[0.03459854052481...|       1.0|\n",
      "|[76.0,456.0,9496....|          1.0|[0.43598248918249...|[0.60730132309078...|       0.0|\n",
      "|[77.0,262.0,2516....|          0.0|[-0.2576094619379...|[0.43595144593723...|       1.0|\n",
      "|[80.0,162.0,5089....|          0.0|[-0.3634056789207...|[0.41013539783093...|       1.0|\n",
      "|[85.0,121.0,1078....|          1.0|[-0.5510642006665...|[0.36561754156356...|       1.0|\n",
      "|[87.0,357.0,1129....|          0.0|[1.08466701593677...|[0.74737615633055...|       0.0|\n",
      "|[89.0,112.0,1093....|          0.0|[0.71011785242217...|[0.67042720036306...|       0.0|\n",
      "|[90.0,70.0,1721.0...|          0.0|[0.42237151863841...|[0.60405059394664...|       0.0|\n",
      "|[92.0,203.0,2417....|          0.0|[0.03093568332002...|[0.50773330409820...|       0.0|\n",
      "+--------------------+-------------+--------------------+--------------------+----------+\n",
      "only showing top 20 rows\n",
      "\n"
     ]
    }
   ],
   "source": [
    "df = results.show()  \n",
    "accuracy = float((tp+tn)/(tp+tn+fp+fn))  "
   ]
  },
  {
   "cell_type": "code",
   "execution_count": 78,
   "id": "a7b3e31c-c7c9-48b0-b864-657581316b9e",
   "metadata": {},
   "outputs": [
    {
     "name": "stdout",
     "output_type": "stream",
     "text": [
      "0.6422018348623854\n"
     ]
    }
   ],
   "source": [
    "print(accuracy)"
   ]
  },
  {
   "cell_type": "code",
   "execution_count": 79,
   "id": "6e915403-aca8-4a1f-8e9b-23421f12d515",
   "metadata": {},
   "outputs": [],
   "source": [
    "#Work on a Support Vector Machines model \n"
   ]
  },
  {
   "cell_type": "code",
   "execution_count": 80,
   "id": "b11ca46a-890b-426d-8e57-ef39b0bd9747",
   "metadata": {},
   "outputs": [
    {
     "name": "stdout",
     "output_type": "stream",
     "text": [
      "+----------+---------+--------------------+--------------------+----+--------------+--------+-----+------------------+----------+----------------+-----------------+---------+-------------+--------------------+\n",
      "|Unnamed: 0|   tconst|        primaryTitle|       originalTitle|year|runtimeMinutes|numVotes|label|      log_numVotes|tconst_cat|primaryTitle_cat|originalTitle_cat|label_str|label_str_cat|            features|\n",
      "+----------+---------+--------------------+--------------------+----+--------------+--------+-----+------------------+----------+----------------+-----------------+---------+-------------+--------------------+\n",
      "|         2|tt0009369|              Mickey|              Mickey|1918|            93|  1119.0|false| 7.020190708311925|       0.0|           231.0|            263.0|    false|          0.0|[0.0,231.0,1119.0...|\n",
      "|        21|tt0014945|            Girl Shy|            Girl Shy|1924|            87|  3327.0| true| 8.109826276018477|       1.0|           147.0|            154.0|     true|          1.0|[1.0,147.0,3327.0...|\n",
      "|        52|tt0018054|   Thé King ớf Kings|   The King of Kings|1927|           160|  2081.0| true| 7.640603826393634|       2.0|           416.0|            392.0|     true|          1.0|[2.0,416.0,2081.0...|\n",
      "|        72|tt0019429|        Street Angel|        Street Angel|1928|           102|  2314.0| true| 7.746732907753622|       3.0|           322.0|            358.0|     true|          1.0|[3.0,322.0,2314.0...|\n",
      "|        98|tt0022599|   À Nous la Liberté|   À nous la liberté|1931|           104|  4392.0| true| 8.387539983189367|       4.0|           468.0|            475.0|     true|          1.0|[4.0,468.0,4392.0...|\n",
      "|       154|tt0027075|A Tale of Two Cities|A Tale of Two Cities|1935|           128|  5596.0| true| 8.629807335785372|       5.0|            26.0|             21.0|     true|          1.0|[5.0,26.0,5596.0,...|\n",
      "|       161|tt0027441|Charlie Chan at t...|Charlie Chan at t...|1936|            70|  1461.0| true|   7.2868764117507|       6.0|            87.0|             87.0|     true|          1.0|[6.0,87.0,1461.0,...|\n",
      "|       219|tt0031002|  Thé Yớúng in Héárt|  The Young in Heart|1938|            90|  1332.0| true| 7.194436851100335|       7.0|           423.0|            424.0|     true|          1.0|[7.0,423.0,1332.0...|\n",
      "|       224|tt0031149|Charlie Chan in Reno|Charlie Chan in Reno|1939|            71|  1366.0| true|7.2196420401307355|       8.0|            88.0|             88.0|     true|          1.0|[8.0,88.0,1366.0,...|\n",
      "|       241|tt0031754|    On Borrowed Time|    On Borrowed Time|1939|            99|  1896.0| true| 7.547501682814967|       9.0|           264.0|            292.0|     true|          1.0|[9.0,264.0,1896.0...|\n",
      "|       264|tt0032484|Foreign Correspon...|Foreign Correspon...|1940|           120| 19974.0| true|  9.90218670680308|      10.0|           137.0|            144.0|     true|          1.0|[10.0,137.0,19974...|\n",
      "|       269|tt0032701|          The Letter|          The Letter|1940|            95| 12714.0| true| 9.450459027496354|      11.0|           372.0|            395.0|     true|          1.0|[11.0,372.0,12714...|\n",
      "|       285|tt0033532|All That Money Ca...|All That Money Ca...|1941|           107|  4908.0| true| 8.498621805830801|      12.0|            37.0|             33.0|     true|          1.0|[12.0,37.0,4908.0...|\n",
      "|       298|tt0033873|            Man Hunt|            Man Hunt|1941|           105|  5231.0| true| 8.562357743370612|      13.0|           221.0|            250.0|     true|          1.0|[13.0,221.0,5231....|\n",
      "|       299|tt0033874|The Man Who Came ...|The Man Who Came ...|1942|           112|  7446.0| true| 8.915432254432663|      14.0|           377.0|            399.0|     true|          1.0|[14.0,377.0,7446....|\n",
      "|       419|tt0038975|The Spiral Staircase|The Spiral Staircase|1946|            83|  9752.0| true| 9.185227671161108|      15.0|           398.0|            417.0|     true|          1.0|[15.0,398.0,9752....|\n",
      "|       459|tt0040495|      Johnny Belinda|      Johnny Belinda|1948|           102|  4659.0| true| 8.446556111816797|      16.0|           188.0|            201.0|     true|          1.0|[16.0,188.0,4659....|\n",
      "|       521|tt0042898|The Rocking Horse...|The Rocking Horse...|1949|            91|  1137.0| true| 7.036148493750536|      17.0|           394.0|            411.0|     true|          1.0|[17.0,394.0,1137....|\n",
      "|       556|tt0044418|      Big Jim McLáin|      Big Jim McLain|1952|            90|  2109.0|false| 7.653969180478774|      18.0|            62.0|             61.0|    false|          0.0|[18.0,62.0,2109.0...|\n",
      "|       597|tt0046031|     The Man Between|     The Man Between|1953|           100|  1985.0| true|  7.59337419312129|      19.0|           376.0|            398.0|     true|          1.0|[19.0,376.0,1985....|\n",
      "+----------+---------+--------------------+--------------------+----+--------------+--------+-----+------------------+----------+----------------+-----------------+---------+-------------+--------------------+\n",
      "only showing top 20 rows\n",
      "\n"
     ]
    }
   ],
   "source": [
    "output.show()"
   ]
  },
  {
   "cell_type": "code",
   "execution_count": 81,
   "id": "2d02c9b7-6a58-4e65-aa3e-aecd2dc3927c",
   "metadata": {},
   "outputs": [
    {
     "name": "stdout",
     "output_type": "stream",
     "text": [
      "+--------------------+-------------+\n",
      "|            features|label_str_cat|\n",
      "+--------------------+-------------+\n",
      "|[0.0,231.0,1119.0...|          0.0|\n",
      "|[1.0,147.0,3327.0...|          1.0|\n",
      "|[2.0,416.0,2081.0...|          1.0|\n",
      "|[3.0,322.0,2314.0...|          1.0|\n",
      "|[4.0,468.0,4392.0...|          1.0|\n",
      "|[5.0,26.0,5596.0,...|          1.0|\n",
      "|[6.0,87.0,1461.0,...|          1.0|\n",
      "|[7.0,423.0,1332.0...|          1.0|\n",
      "|[8.0,88.0,1366.0,...|          1.0|\n",
      "|[9.0,264.0,1896.0...|          1.0|\n",
      "|[10.0,137.0,19974...|          1.0|\n",
      "|[11.0,372.0,12714...|          1.0|\n",
      "|[12.0,37.0,4908.0...|          1.0|\n",
      "|[13.0,221.0,5231....|          1.0|\n",
      "|[14.0,377.0,7446....|          1.0|\n",
      "|[15.0,398.0,9752....|          1.0|\n",
      "|[16.0,188.0,4659....|          1.0|\n",
      "|[17.0,394.0,1137....|          1.0|\n",
      "|[18.0,62.0,2109.0...|          0.0|\n",
      "|[19.0,376.0,1985....|          1.0|\n",
      "+--------------------+-------------+\n",
      "only showing top 20 rows\n",
      "\n"
     ]
    }
   ],
   "source": [
    "model_df.show()"
   ]
  },
  {
   "cell_type": "code",
   "execution_count": 82,
   "id": "21b9c765-5ac7-457d-8593-6d9b4f74286b",
   "metadata": {},
   "outputs": [],
   "source": [
    "model_df_svm = model_df.withColumnRenamed(\"label_str_cat\", \"label\")"
   ]
  },
  {
   "cell_type": "code",
   "execution_count": 83,
   "id": "51607698-2722-4593-880b-68828fa739c7",
   "metadata": {},
   "outputs": [],
   "source": [
    "train_svm_df, test__svm_df=model_df_svm.randomSplit([0.7,0.3])"
   ]
  },
  {
   "cell_type": "code",
   "execution_count": 84,
   "id": "e37baafc-9725-40c0-8434-2aa156d6e39c",
   "metadata": {},
   "outputs": [],
   "source": [
    "from pyspark.ml.classification import LinearSVC"
   ]
  },
  {
   "cell_type": "code",
   "execution_count": 85,
   "id": "6c235e2a-c414-4df3-b55f-3ee5e6689ef2",
   "metadata": {},
   "outputs": [],
   "source": [
    "svm = LinearSVC(maxIter=10, regParam=0.1)\n"
   ]
  },
  {
   "cell_type": "code",
   "execution_count": 86,
   "id": "8334a008-af4d-4c81-a435-a8ae43fd5129",
   "metadata": {},
   "outputs": [
    {
     "name": "stderr",
     "output_type": "stream",
     "text": [
      "                                                                                \r"
     ]
    },
    {
     "name": "stdout",
     "output_type": "stream",
     "text": [
      "+--------------------+-----+\n",
      "|            features|label|\n",
      "+--------------------+-----+\n",
      "|[1.0,147.0,3327.0...|  1.0|\n",
      "|[2.0,416.0,2081.0...|  1.0|\n",
      "|[3.0,322.0,2314.0...|  1.0|\n",
      "|[4.0,468.0,4392.0...|  1.0|\n",
      "|[7.0,423.0,1332.0...|  1.0|\n",
      "|[8.0,88.0,1366.0,...|  1.0|\n",
      "|[9.0,264.0,1896.0...|  1.0|\n",
      "|[10.0,137.0,19974...|  1.0|\n",
      "|[11.0,372.0,12714...|  1.0|\n",
      "|[13.0,221.0,5231....|  1.0|\n",
      "|[14.0,377.0,7446....|  1.0|\n",
      "|[15.0,398.0,9752....|  1.0|\n",
      "|[16.0,188.0,4659....|  1.0|\n",
      "|[17.0,394.0,1137....|  1.0|\n",
      "|[20.0,190.0,10024...|  1.0|\n",
      "|[24.0,314.0,13273...|  1.0|\n",
      "|[25.0,323.0,8261....|  1.0|\n",
      "|[28.0,337.0,1386....|  1.0|\n",
      "|[30.0,27.0,1579.0...|  1.0|\n",
      "|[32.0,447.0,38631...|  1.0|\n",
      "+--------------------+-----+\n",
      "only showing top 20 rows\n",
      "\n"
     ]
    }
   ],
   "source": [
    "train_svm_df.show()"
   ]
  },
  {
   "cell_type": "code",
   "execution_count": 87,
   "id": "1717c180-314c-431a-b496-7ad5c6d657c4",
   "metadata": {},
   "outputs": [
    {
     "name": "stderr",
     "output_type": "stream",
     "text": [
      "                                                                                \r"
     ]
    }
   ],
   "source": [
    "svm_model = svm.fit(train_svm_df)"
   ]
  },
  {
   "cell_type": "code",
   "execution_count": 88,
   "id": "4caff106-6445-4699-bbb9-72d4b45c14b1",
   "metadata": {},
   "outputs": [],
   "source": [
    "predictions = svm_model.transform(test__svm_df)"
   ]
  },
  {
   "cell_type": "code",
   "execution_count": 89,
   "id": "810d9e9d-29b2-405f-879c-276bdd0788c1",
   "metadata": {},
   "outputs": [
    {
     "name": "stderr",
     "output_type": "stream",
     "text": [
      "                                                                                \r"
     ]
    },
    {
     "name": "stdout",
     "output_type": "stream",
     "text": [
      "+--------------------+-----+--------------------+----------+\n",
      "|            features|label|       rawPrediction|prediction|\n",
      "+--------------------+-----+--------------------+----------+\n",
      "|[0.0,231.0,1119.0...|  0.0|[-1.1452345217330...|       1.0|\n",
      "|[5.0,26.0,5596.0,...|  1.0|[-2.1318004672806...|       1.0|\n",
      "|[6.0,87.0,1461.0,...|  1.0|[0.00510841128156...|       0.0|\n",
      "|[12.0,37.0,4908.0...|  1.0|[-1.2806559041808...|       1.0|\n",
      "|[18.0,62.0,2109.0...|  0.0|[-0.3005379680867...|       1.0|\n",
      "|[19.0,376.0,1985....|  1.0|[-0.5864451708202...|       1.0|\n",
      "|[21.0,5.0,32615.0...|  1.0|[-1.9929342596659...|       1.0|\n",
      "|[22.0,43.0,16651....|  1.0|[-0.0671842196900...|       1.0|\n",
      "|[23.0,77.0,11596....|  1.0|[-0.7782935478066...|       1.0|\n",
      "|[26.0,326.0,1842....|  0.0|[0.01597325854839...|       0.0|\n",
      "|[27.0,42.0,8251.0...|  1.0|[-0.9377604879627...|       1.0|\n",
      "|[29.0,378.0,62173...|  1.0|[-1.9026500308070...|       1.0|\n",
      "|[31.0,405.0,5635....|  1.0|[-0.4545760632912...|       1.0|\n",
      "|[37.0,259.0,5559....|  1.0|[-0.3133407289476...|       1.0|\n",
      "|[39.0,246.0,3154....|  1.0|[-0.7955038662485...|       1.0|\n",
      "|[41.0,356.0,1171....|  1.0|[-1.8806416529442...|       1.0|\n",
      "|[47.0,163.0,19371...|  1.0|[-0.4727192170983...|       1.0|\n",
      "|[52.0,402.0,2525....|  1.0|[-0.4137719550897...|       1.0|\n",
      "|[61.0,313.0,1260....|  1.0|[0.41440703477154...|       0.0|\n",
      "|[62.0,68.0,37871....|  1.0|[-0.6030167697221...|       1.0|\n",
      "+--------------------+-----+--------------------+----------+\n",
      "only showing top 20 rows\n",
      "\n"
     ]
    }
   ],
   "source": [
    "predictions.show()"
   ]
  },
  {
   "cell_type": "code",
   "execution_count": 90,
   "id": "78b8faf9-f83d-48ed-aaa3-0b38d06e1e47",
   "metadata": {},
   "outputs": [],
   "source": [
    "from pyspark.ml.evaluation import MulticlassClassificationEvaluator"
   ]
  },
  {
   "cell_type": "code",
   "execution_count": 91,
   "id": "292e2c15-d03e-4a5d-a898-25f7b8b70e23",
   "metadata": {},
   "outputs": [
    {
     "name": "stderr",
     "output_type": "stream",
     "text": [
      "                                                                                \r"
     ]
    },
    {
     "name": "stdout",
     "output_type": "stream",
     "text": [
      "Accuracy = 0.714286\n"
     ]
    }
   ],
   "source": [
    "# Compute accuracy on the test data set\n",
    "evaluator = MulticlassClassificationEvaluator(predictionCol='prediction', labelCol='label', metricName='accuracy')\n",
    "accuracy = evaluator.evaluate(predictions)\n",
    "print('Accuracy = %g' % accuracy)"
   ]
  },
  {
   "cell_type": "code",
   "execution_count": 92,
   "id": "9b86f30b-99b2-4e31-8df8-6bf40f39d582",
   "metadata": {},
   "outputs": [
    {
     "name": "stderr",
     "output_type": "stream",
     "text": [
      "                                                                                \r"
     ]
    },
    {
     "name": "stdout",
     "output_type": "stream",
     "text": [
      "Accuracy = 0.714286\n",
      "Precision = 0.719212\n",
      "Recall = 0.714286\n",
      "F1-score = 0.711881\n",
      "AUC-ROC = 0.784074\n",
      "AUC-PR = 0.794765\n"
     ]
    }
   ],
   "source": [
    "from pyspark.ml.evaluation import BinaryClassificationEvaluator, MulticlassClassificationEvaluator\n",
    "\n",
    "# Compute accuracy, precision, recall, F1-score on the test data set\n",
    "evaluator = MulticlassClassificationEvaluator(predictionCol='prediction', labelCol='label', metricName='accuracy')\n",
    "accuracy = evaluator.evaluate(predictions)\n",
    "evaluator.setMetricName('weightedPrecision')\n",
    "precision = evaluator.evaluate(predictions)\n",
    "evaluator.setMetricName('weightedRecall')\n",
    "recall = evaluator.evaluate(predictions)\n",
    "evaluator.setMetricName('f1')\n",
    "f1_score = evaluator.evaluate(predictions)\n",
    "\n",
    "# Compute area under ROC curve and area under precision-recall curve on the test data set\n",
    "evaluator = BinaryClassificationEvaluator(rawPredictionCol='rawPrediction', labelCol='label', metricName='areaUnderROC')\n",
    "auc_roc = evaluator.evaluate(predictions)\n",
    "evaluator.setMetricName('areaUnderPR')\n",
    "auc_pr = evaluator.evaluate(predictions)\n",
    "\n",
    "print('Accuracy = %g' % accuracy)\n",
    "print('Precision = %g' % precision)\n",
    "print('Recall = %g' % recall)\n",
    "print('F1-score = %g' % f1_score)\n",
    "print('AUC-ROC = %g' % auc_roc)\n",
    "print('AUC-PR = %g' % auc_pr)\n"
   ]
  },
  {
   "cell_type": "code",
   "execution_count": 93,
   "id": "94a2798e-336b-4614-a8b5-cd0999061d45",
   "metadata": {},
   "outputs": [
    {
     "name": "stderr",
     "output_type": "stream",
     "text": [
      "                                                                                \r"
     ]
    }
   ],
   "source": [
    "# Read the CSV file into a DataFrame\n",
    "df = spark.read.csv(\"df_all_processed.csv\", header=True, inferSchema=True)"
   ]
  },
  {
   "cell_type": "code",
   "execution_count": 94,
   "id": "e03290d6-26fa-4690-b886-7820e4d946ba",
   "metadata": {},
   "outputs": [],
   "source": [
    "df_test = spark.read.csv(\"test_hidden_processed.csv\", header=True, inferSchema=True)"
   ]
  },
  {
   "cell_type": "code",
   "execution_count": 95,
   "id": "8fb41195-d7f1-4952-93ed-5e65e64338cb",
   "metadata": {},
   "outputs": [
    {
     "name": "stderr",
     "output_type": "stream",
     "text": [
      "                                                                                \r"
     ]
    },
    {
     "name": "stdout",
     "output_type": "stream",
     "text": [
      "+----------+---------+--------------------+--------------------+---------+-------+--------------+--------+\n",
      "|Unnamed: 0|   tconst|        primaryTitle|       originalTitle|startYear|endYear|runtimeMinutes|numVotes|\n",
      "+----------+---------+--------------------+--------------------+---------+-------+--------------+--------+\n",
      "|        22|tt0014972| He Who Gets Slapped| He Who Gets Slapped|     1924|      0|            95|  3654.0|\n",
      "|        40|tt0016481|             Variety|             Varieté|     1925|      0|           104|  1188.0|\n",
      "|        67|tt0019074| Laugh, Clown, Laugh| Laugh, Clown, Laugh|     1928|      0|            73|  1934.0|\n",
      "|       120|tt0024028|    Footlight Parade|    Footlight Parade|     1933|      0|           104|  5285.0|\n",
      "|       147|tt0025929|A Story of Floati...|  Ukikusa monogatari|     1934|      0|            86|  3032.0|\n",
      "|       162|tt0027442|Chárlié Chán's Sé...|Charlie Chan's Se...|        0|   1936|            72|  1548.0|\n",
      "|       166|tt0027657| The Garden of Allah| The Garden of Allah|     1936|      0|            79|  1519.0|\n",
      "|       192|tt0028988|               Heidi|               Heidi|     1937|      0|            88|  4406.0|\n",
      "|       236|tt0031514|     Lé Jớúr Sé Lévé|     Le jour se lève|     1939|      0|            93|  7394.0|\n",
      "|       238|tt0031619|The Man in the Ir...|The Man in the Ir...|     1939|      0|           113|  1662.0|\n",
      "|       277|tt0033028|        The Sea Hawk|        The Sea Hawk|     1940|      0|           127|  9671.0|\n",
      "|       280|tt0033238|     Waterloo Bridge|     Waterloo Bridge|     1940|      0|           108|  9631.0|\n",
      "|       301|tt0034012|      Penny Serenade|      Penny Serenade|     1941|      0|           119|  6823.0|\n",
      "|       302|tt0034027|   'Pimpernel' Smith|   'Pimpernel' Smith|     1941|      0|           120|  1533.0|\n",
      "|       331|tt0035279|            Saboteur|            Saboteur|     1942|      0|           109| 24953.0|\n",
      "|       355|tt0036641|  Between Two Worlds|  Between Two Worlds|     1944|      0|           112|  2036.0|\n",
      "|       361|tt0036891|Hail the Conqueri...|Hail the Conqueri...|     1944|      0|           101|  4612.0|\n",
      "|       386|tt0037638|              Detour|              Detour|     1945|      0|            68| 16724.0|\n",
      "|       392|tt0037988|The Picture of Do...|The Picture of Do...|     1945|      0|           110| 12786.0|\n",
      "|       405|tt0038650|It's a Wonderful ...|It's a Wonderful ...|     1946|      0|           130|427625.0|\n",
      "+----------+---------+--------------------+--------------------+---------+-------+--------------+--------+\n",
      "only showing top 20 rows\n",
      "\n"
     ]
    }
   ],
   "source": [
    "df_test.show()"
   ]
  },
  {
   "cell_type": "code",
   "execution_count": 96,
   "id": "6bd9ba92-0281-49ca-9b2f-c8135be42ffb",
   "metadata": {},
   "outputs": [],
   "source": [
    "from pyspark.sql.functions import when\n",
    "\n",
    "df_test = df_test.withColumn(\"startYear\", when(df_test[\"startYear\"] == 0, df_test[\"endYear\"]).otherwise(df_test[\"startYear\"]))\n",
    "df_test = df_test.withColumn(\"endYear\", when(df_test[\"endYear\"] == 0, df_test[\"startYear\"]).otherwise(df_test[\"endYear\"]))\n",
    "df_test = df_test.withColumn(\"startYear\", when(df_test[\"startYear\"] > df_test[\"endYear\"], df_test[\"endYear\"]).otherwise(df_test[\"startYear\"]))\n",
    "df_test = df_test.withColumn(\"endYear\", when(df_test[\"startYear\"] > df_test[\"endYear\"], df_test[\"startYear\"]).otherwise(df_test[\"endYear\"]))\n"
   ]
  },
  {
   "cell_type": "code",
   "execution_count": 97,
   "id": "3bc3ff1b-3e4d-4090-8e55-c14516d066fe",
   "metadata": {},
   "outputs": [
    {
     "name": "stdout",
     "output_type": "stream",
     "text": [
      "root\n",
      " |-- Unnamed: 0: integer (nullable = true)\n",
      " |-- tconst: string (nullable = true)\n",
      " |-- primaryTitle: string (nullable = true)\n",
      " |-- originalTitle: string (nullable = true)\n",
      " |-- startYear: integer (nullable = true)\n",
      " |-- endYear: integer (nullable = true)\n",
      " |-- runtimeMinutes: integer (nullable = true)\n",
      " |-- numVotes: double (nullable = true)\n",
      "\n"
     ]
    }
   ],
   "source": [
    "df_test.printSchema()"
   ]
  },
  {
   "cell_type": "code",
   "execution_count": 98,
   "id": "5f90a3f1-667d-498a-85f7-572ef71ca6f0",
   "metadata": {},
   "outputs": [
    {
     "name": "stderr",
     "output_type": "stream",
     "text": [
      "                                                                                \r"
     ]
    },
    {
     "name": "stdout",
     "output_type": "stream",
     "text": [
      "+----------+---------+--------------------+--------------------+---------+-------+--------------+--------+\n",
      "|Unnamed: 0|   tconst|        primaryTitle|       originalTitle|startYear|endYear|runtimeMinutes|numVotes|\n",
      "+----------+---------+--------------------+--------------------+---------+-------+--------------+--------+\n",
      "|        22|tt0014972| He Who Gets Slapped| He Who Gets Slapped|     1924|   1924|            95|  3654.0|\n",
      "|        40|tt0016481|             Variety|             Varieté|     1925|   1925|           104|  1188.0|\n",
      "|        67|tt0019074| Laugh, Clown, Laugh| Laugh, Clown, Laugh|     1928|   1928|            73|  1934.0|\n",
      "|       120|tt0024028|    Footlight Parade|    Footlight Parade|     1933|   1933|           104|  5285.0|\n",
      "|       147|tt0025929|A Story of Floati...|  Ukikusa monogatari|     1934|   1934|            86|  3032.0|\n",
      "|       162|tt0027442|Chárlié Chán's Sé...|Charlie Chan's Se...|     1936|   1936|            72|  1548.0|\n",
      "|       166|tt0027657| The Garden of Allah| The Garden of Allah|     1936|   1936|            79|  1519.0|\n",
      "|       192|tt0028988|               Heidi|               Heidi|     1937|   1937|            88|  4406.0|\n",
      "|       236|tt0031514|     Lé Jớúr Sé Lévé|     Le jour se lève|     1939|   1939|            93|  7394.0|\n",
      "|       238|tt0031619|The Man in the Ir...|The Man in the Ir...|     1939|   1939|           113|  1662.0|\n",
      "|       277|tt0033028|        The Sea Hawk|        The Sea Hawk|     1940|   1940|           127|  9671.0|\n",
      "|       280|tt0033238|     Waterloo Bridge|     Waterloo Bridge|     1940|   1940|           108|  9631.0|\n",
      "|       301|tt0034012|      Penny Serenade|      Penny Serenade|     1941|   1941|           119|  6823.0|\n",
      "|       302|tt0034027|   'Pimpernel' Smith|   'Pimpernel' Smith|     1941|   1941|           120|  1533.0|\n",
      "|       331|tt0035279|            Saboteur|            Saboteur|     1942|   1942|           109| 24953.0|\n",
      "|       355|tt0036641|  Between Two Worlds|  Between Two Worlds|     1944|   1944|           112|  2036.0|\n",
      "|       361|tt0036891|Hail the Conqueri...|Hail the Conqueri...|     1944|   1944|           101|  4612.0|\n",
      "|       386|tt0037638|              Detour|              Detour|     1945|   1945|            68| 16724.0|\n",
      "|       392|tt0037988|The Picture of Do...|The Picture of Do...|     1945|   1945|           110| 12786.0|\n",
      "|       405|tt0038650|It's a Wonderful ...|It's a Wonderful ...|     1946|   1946|           130|427625.0|\n",
      "+----------+---------+--------------------+--------------------+---------+-------+--------------+--------+\n",
      "only showing top 20 rows\n",
      "\n"
     ]
    }
   ],
   "source": [
    "df_test.show()"
   ]
  },
  {
   "cell_type": "code",
   "execution_count": 99,
   "id": "45f370c0-6065-4969-be62-0a35b376e7ad",
   "metadata": {},
   "outputs": [],
   "source": [
    "df_test = df_test.withColumnRenamed(\"startYear\", \"year\").drop(\"endYear\")"
   ]
  },
  {
   "cell_type": "code",
   "execution_count": 100,
   "id": "9aff9ca9-9872-460e-bd44-f5072bb83660",
   "metadata": {},
   "outputs": [],
   "source": [
    "from pyspark.sql.functions import log\n",
    "df_test = df_test.withColumn(\"numVotes_log\", log(\"numVotes\"))"
   ]
  },
  {
   "cell_type": "code",
   "execution_count": 101,
   "id": "101c71b8-69ec-4f7e-a5e1-6ef1c2953a46",
   "metadata": {},
   "outputs": [
    {
     "name": "stdout",
     "output_type": "stream",
     "text": [
      "+----------+---------+--------------------+--------------------+----+--------------+--------+------------------+\n",
      "|Unnamed: 0|   tconst|        primaryTitle|       originalTitle|year|runtimeMinutes|numVotes|      numVotes_log|\n",
      "+----------+---------+--------------------+--------------------+----+--------------+--------+------------------+\n",
      "|        22|tt0014972| He Who Gets Slapped| He Who Gets Slapped|1924|            95|  3654.0| 8.203577736937952|\n",
      "|        40|tt0016481|             Variety|             Varieté|1925|           104|  1188.0| 7.080026499922591|\n",
      "|        67|tt0019074| Laugh, Clown, Laugh| Laugh, Clown, Laugh|1928|            73|  1934.0|  7.56734567601324|\n",
      "|       120|tt0024028|    Footlight Parade|    Footlight Parade|1933|           104|  5285.0| 8.572627898304338|\n",
      "|       147|tt0025929|A Story of Floati...|  Ukikusa monogatari|1934|            86|  3032.0| 8.016977746762262|\n",
      "|       162|tt0027442|Chárlié Chán's Sé...|Charlie Chan's Se...|1936|            72|  1548.0| 7.344719054149673|\n",
      "|       166|tt0027657| The Garden of Allah| The Garden of Allah|1936|            79|  1519.0| 7.325807502595773|\n",
      "|       192|tt0028988|               Heidi|               Heidi|1937|            88|  4406.0|  8.39072252736229|\n",
      "|       236|tt0031514|     Lé Jớúr Sé Lévé|     Le jour se lève|1939|            93|  7394.0| 8.908424139496578|\n",
      "|       238|tt0031619|The Man in the Ir...|The Man in the Ir...|1939|           113|  1662.0| 7.415776975415394|\n",
      "|       277|tt0033028|        The Sea Hawk|        The Sea Hawk|1940|           127|  9671.0| 9.176886995716963|\n",
      "|       280|tt0033238|     Waterloo Bridge|     Waterloo Bridge|1940|           108|  9631.0| 9.172742341560864|\n",
      "|       301|tt0034012|      Penny Serenade|      Penny Serenade|1941|           119|  6823.0| 8.828054536815424|\n",
      "|       302|tt0034027|   'Pimpernel' Smith|   'Pimpernel' Smith|1941|           120|  1533.0| 7.334981878871814|\n",
      "|       331|tt0035279|            Saboteur|            Saboteur|1942|           109| 24953.0| 10.12474933443232|\n",
      "|       355|tt0036641|  Between Two Worlds|  Between Two Worlds|1944|           112|  2036.0| 7.618742377670413|\n",
      "|       361|tt0036891|Hail the Conqueri...|Hail the Conqueri...|1944|           101|  4612.0| 8.436416881388949|\n",
      "|       386|tt0037638|              Detour|              Detour|1945|            68| 16724.0| 9.724600092476456|\n",
      "|       392|tt0037988|The Picture of Do...|The Picture of Do...|1945|           110| 12786.0| 9.456106101326672|\n",
      "|       405|tt0038650|It's a Wonderful ...|It's a Wonderful ...|1946|           130|427625.0|12.966001922279906|\n",
      "+----------+---------+--------------------+--------------------+----+--------------+--------+------------------+\n",
      "only showing top 20 rows\n",
      "\n"
     ]
    }
   ],
   "source": [
    "df_test.show()"
   ]
  },
  {
   "cell_type": "code",
   "execution_count": 102,
   "id": "8037abf4-8436-4b45-86fe-3fbf1231bfb2",
   "metadata": {},
   "outputs": [
    {
     "name": "stderr",
     "output_type": "stream",
     "text": [
      "                                                                                \r"
     ]
    }
   ],
   "source": [
    "indexer=StringIndexer(inputCol=\"tconst\",outputCol=\"tconst_cat\")\n",
    "indexed=indexer.fit(df_test).transform(df_test)\n",
    "indexer=StringIndexer(inputCol=\"primaryTitle\",outputCol=\"primaryTitle_cat\")\n",
    "indexed=indexer.fit(indexed).transform(indexed)\n",
    "indexer=StringIndexer(inputCol=\"originalTitle\",outputCol=\"originalTitle_cat\")\n",
    "indexed=indexer.fit(indexed).transform(indexed)"
   ]
  },
  {
   "cell_type": "code",
   "execution_count": 103,
   "id": "1d502b2f-130c-426b-a161-0762b6546e6a",
   "metadata": {},
   "outputs": [],
   "source": [
    "#Convert all input columns to one feature by assembler\n",
    "assembler_test=VectorAssembler(inputCols=[\"tconst_cat\",\"primaryTitle_cat\",\"numVotes\",\"year\",\"runtimeMinutes\",\"numVotes\",\"numVotes_log\"],\n",
    "                          outputCol=\"features\")"
   ]
  },
  {
   "cell_type": "code",
   "execution_count": 104,
   "id": "08e6d861-08d7-4837-867a-bdca8da568fc",
   "metadata": {},
   "outputs": [
    {
     "data": {
      "text/plain": [
       "VectorAssembler_d6686b099ae6"
      ]
     },
     "execution_count": 104,
     "metadata": {},
     "output_type": "execute_result"
    }
   ],
   "source": [
    "assembler_test"
   ]
  },
  {
   "cell_type": "code",
   "execution_count": 105,
   "id": "367327a9-db4a-4f82-86c4-1e4504719ec8",
   "metadata": {},
   "outputs": [],
   "source": [
    "output_test=assembler_test.transform(indexed)"
   ]
  },
  {
   "cell_type": "code",
   "execution_count": 106,
   "id": "ff0fd37b-0b27-4dfe-a524-e1888503aa71",
   "metadata": {},
   "outputs": [
    {
     "name": "stderr",
     "output_type": "stream",
     "text": [
      "                                                                                \r"
     ]
    },
    {
     "name": "stdout",
     "output_type": "stream",
     "text": [
      "+----------+---------+--------------------+--------------------+----+--------------+--------+------------------+----------+----------------+-----------------+--------------------+\n",
      "|Unnamed: 0|   tconst|        primaryTitle|       originalTitle|year|runtimeMinutes|numVotes|      numVotes_log|tconst_cat|primaryTitle_cat|originalTitle_cat|            features|\n",
      "+----------+---------+--------------------+--------------------+----+--------------+--------+------------------+----------+----------------+-----------------+--------------------+\n",
      "|        22|tt0014972| He Who Gets Slapped| He Who Gets Slapped|1924|            95|  3654.0| 8.203577736937952|       0.0|           150.0|            151.0|[0.0,150.0,3654.0...|\n",
      "|        40|tt0016481|             Variety|             Varieté|1925|           104|  1188.0| 7.080026499922591|       1.0|           448.0|            448.0|[1.0,448.0,1188.0...|\n",
      "|        67|tt0019074| Laugh, Clown, Laugh| Laugh, Clown, Laugh|1928|            73|  1934.0|  7.56734567601324|       2.0|           190.0|            209.0|[2.0,190.0,1934.0...|\n",
      "|       120|tt0024028|    Footlight Parade|    Footlight Parade|1933|           104|  5285.0| 8.572627898304338|       3.0|           134.0|            133.0|[3.0,134.0,5285.0...|\n",
      "|       147|tt0025929|A Story of Floati...|  Ukikusa monogatari|1934|            86|  3032.0| 8.016977746762262|       4.0|            14.0|            441.0|[4.0,14.0,3032.0,...|\n",
      "|       162|tt0027442|Chárlié Chán's Sé...|Charlie Chan's Se...|1936|            72|  1548.0| 7.344719054149673|       5.0|            70.0|             62.0|[5.0,70.0,1548.0,...|\n",
      "|       166|tt0027657| The Garden of Allah| The Garden of Allah|1936|            79|  1519.0| 7.325807502595773|       6.0|           372.0|            385.0|[6.0,372.0,1519.0...|\n",
      "|       192|tt0028988|               Heidi|               Heidi|1937|            88|  4406.0|  8.39072252736229|       7.0|           152.0|            154.0|[7.0,152.0,4406.0...|\n",
      "|       236|tt0031514|     Lé Jớúr Sé Lévé|     Le jour se lève|1939|            93|  7394.0| 8.908424139496578|       8.0|           201.0|            211.0|[8.0,201.0,7394.0...|\n",
      "|       238|tt0031619|The Man in the Ir...|The Man in the Ir...|1939|           113|  1662.0| 7.415776975415394|       9.0|           388.0|            400.0|[9.0,388.0,1662.0...|\n",
      "|       277|tt0033028|        The Sea Hawk|        The Sea Hawk|1940|           127|  9671.0| 9.176886995716963|      10.0|           405.0|            412.0|[10.0,405.0,9671....|\n",
      "|       280|tt0033238|     Waterloo Bridge|     Waterloo Bridge|1940|           108|  9631.0| 9.172742341560864|      11.0|           457.0|            458.0|[11.0,457.0,9631....|\n",
      "|       301|tt0034012|      Penny Serenade|      Penny Serenade|1941|           119|  6823.0| 8.828054536815424|      12.0|           252.0|            281.0|[12.0,252.0,6823....|\n",
      "|       302|tt0034027|   'Pimpernel' Smith|   'Pimpernel' Smith|1941|           120|  1533.0| 7.334981878871814|      13.0|             0.0|              0.0|[13.0,0.0,1533.0,...|\n",
      "|       331|tt0035279|            Saboteur|            Saboteur|1942|           109| 24953.0| 10.12474933443232|      14.0|           277.0|            304.0|[14.0,277.0,24953...|\n",
      "|       355|tt0036641|  Between Two Worlds|  Between Two Worlds|1944|           112|  2036.0| 7.618742377670413|      15.0|            44.0|             43.0|[15.0,44.0,2036.0...|\n",
      "|       361|tt0036891|Hail the Conqueri...|Hail the Conqueri...|1944|           101|  4612.0| 8.436416881388949|      16.0|           146.0|            147.0|[16.0,146.0,4612....|\n",
      "|       386|tt0037638|              Detour|              Detour|1945|            68| 16724.0| 9.724600092476456|      17.0|            98.0|             94.0|[17.0,98.0,16724....|\n",
      "|       392|tt0037988|The Picture of Do...|The Picture of Do...|1945|           110| 12786.0| 9.456106101326672|      18.0|           397.0|            405.0|[18.0,397.0,12786...|\n",
      "|       405|tt0038650|It's a Wonderful ...|It's a Wonderful ...|1946|           130|427625.0|12.966001922279906|      19.0|           174.0|            182.0|[19.0,174.0,42762...|\n",
      "+----------+---------+--------------------+--------------------+----+--------------+--------+------------------+----------+----------------+-----------------+--------------------+\n",
      "only showing top 20 rows\n",
      "\n"
     ]
    }
   ],
   "source": [
    "output_test.show()"
   ]
  },
  {
   "cell_type": "code",
   "execution_count": 112,
   "id": "2268ccd5-8668-43ad-ad26-5d51f37202c1",
   "metadata": {},
   "outputs": [],
   "source": [
    "from pyspark.sql.functions import lit\n",
    "\n",
    "output_test = output_test.withColumn('label', lit(0))"
   ]
  },
  {
   "cell_type": "code",
   "execution_count": 113,
   "id": "41bfb44f-9e8d-4d80-b6c9-9f940747c42b",
   "metadata": {},
   "outputs": [],
   "source": [
    "#output_test.select(\"features\",\"label\").show(truncate=False)"
   ]
  },
  {
   "cell_type": "code",
   "execution_count": 114,
   "id": "d04e5111-da00-4fcc-afc8-a2ab7667733d",
   "metadata": {},
   "outputs": [],
   "source": [
    "# Use the model to predict the output on the df DataFrame\n",
    "predictions2 = svm_model.transform(output_test)\n",
    "\n",
    "\n",
    "\n",
    "\n"
   ]
  },
  {
   "cell_type": "code",
   "execution_count": 115,
   "id": "b45ccc10-70b0-4cbd-be93-e6d3c9d79700",
   "metadata": {},
   "outputs": [
    {
     "name": "stderr",
     "output_type": "stream",
     "text": [
      "                                                                                \r"
     ]
    },
    {
     "name": "stdout",
     "output_type": "stream",
     "text": [
      "+----------+---------+--------------------+--------------------+----+--------------+--------+------------------+----------+----------------+-----------------+--------------------+-----+--------------------+----------+\n",
      "|Unnamed: 0|   tconst|        primaryTitle|       originalTitle|year|runtimeMinutes|numVotes|      numVotes_log|tconst_cat|primaryTitle_cat|originalTitle_cat|            features|label|       rawPrediction|prediction|\n",
      "+----------+---------+--------------------+--------------------+----+--------------+--------+------------------+----------+----------------+-----------------+--------------------+-----+--------------------+----------+\n",
      "|        22|tt0014972| He Who Gets Slapped| He Who Gets Slapped|1924|            95|  3654.0| 8.203577736937952|       0.0|           150.0|            151.0|[0.0,150.0,3654.0...|    0|[-1.2692432189006...|       1.0|\n",
      "|        40|tt0016481|             Variety|             Varieté|1925|           104|  1188.0| 7.080026499922591|       1.0|           448.0|            448.0|[1.0,448.0,1188.0...|    0|[-1.3316383360051...|       1.0|\n",
      "|        67|tt0019074| Laugh, Clown, Laugh| Laugh, Clown, Laugh|1928|            73|  1934.0|  7.56734567601324|       2.0|           190.0|            209.0|[2.0,190.0,1934.0...|    0|[-0.3443397529962...|       1.0|\n",
      "|       120|tt0024028|    Footlight Parade|    Footlight Parade|1933|           104|  5285.0| 8.572627898304338|       3.0|           134.0|            133.0|[3.0,134.0,5285.0...|    0|[-1.3987109793294...|       1.0|\n",
      "|       147|tt0025929|A Story of Floati...|  Ukikusa monogatari|1934|            86|  3032.0| 8.016977746762262|       4.0|            14.0|            441.0|[4.0,14.0,3032.0,...|    0|[-0.6916126411712...|       1.0|\n",
      "|       162|tt0027442|Chárlié Chán's Sé...|Charlie Chan's Se...|1936|            72|  1548.0| 7.344719054149673|       5.0|            70.0|             62.0|[5.0,70.0,1548.0,...|    0|[-0.0692097683607...|       1.0|\n",
      "|       166|tt0027657| The Garden of Allah| The Garden of Allah|1936|            79|  1519.0| 7.325807502595773|       6.0|           372.0|            385.0|[6.0,372.0,1519.0...|    0|[-0.2915785126723...|       1.0|\n",
      "|       192|tt0028988|               Heidi|               Heidi|1937|            88|  4406.0|  8.39072252736229|       7.0|           152.0|            154.0|[7.0,152.0,4406.0...|    0|[-0.7491325207898...|       1.0|\n",
      "|       236|tt0031514|     Lé Jớúr Sé Lévé|     Le jour se lève|1939|            93|  7394.0| 8.908424139496578|       8.0|           201.0|            211.0|[8.0,201.0,7394.0...|    0|[-0.9569948578320...|       1.0|\n",
      "|       238|tt0031619|The Man in the Ir...|The Man in the Ir...|1939|           113|  1662.0| 7.415776975415394|       9.0|           388.0|            400.0|[9.0,388.0,1662.0...|    0|[-1.3267890222753...|       1.0|\n",
      "|       277|tt0033028|        The Sea Hawk|        The Sea Hawk|1940|           127|  9671.0| 9.176886995716963|      10.0|           405.0|            412.0|[10.0,405.0,9671....|    0|[-2.0791561984035...|       1.0|\n",
      "|       280|tt0033238|     Waterloo Bridge|     Waterloo Bridge|1940|           108|  9631.0| 9.172742341560864|      11.0|           457.0|            458.0|[11.0,457.0,9631....|    0|[-1.4670354007976...|       1.0|\n",
      "|       301|tt0034012|      Penny Serenade|      Penny Serenade|1941|           119|  6823.0| 8.828054536815424|      12.0|           252.0|            281.0|[12.0,252.0,6823....|    0|[-1.7291067927396...|       1.0|\n",
      "|       302|tt0034027|   'Pimpernel' Smith|   'Pimpernel' Smith|1941|           120|  1533.0| 7.334981878871814|      13.0|             0.0|              0.0|[13.0,0.0,1533.0,...|    0|[-1.4881924216129...|       1.0|\n",
      "|       331|tt0035279|            Saboteur|            Saboteur|1942|           109| 24953.0| 10.12474933443232|      14.0|           277.0|            304.0|[14.0,277.0,24953...|    0|[-1.6521300675882...|       1.0|\n",
      "|       355|tt0036641|  Between Two Worlds|  Between Two Worlds|1944|           112|  2036.0| 7.618742377670413|      15.0|            44.0|             43.0|[15.0,44.0,2036.0...|    0|[-1.2055912280394...|       1.0|\n",
      "|       361|tt0036891|Hail the Conqueri...|Hail the Conqueri...|1944|           101|  4612.0| 8.436416881388949|      16.0|           146.0|            147.0|[16.0,146.0,4612....|    0|[-1.0008550465719...|       1.0|\n",
      "|       386|tt0037638|              Detour|              Detour|1945|            68| 16724.0| 9.724600092476456|      17.0|            98.0|             94.0|[17.0,98.0,16724....|    0|[-0.1672257357899...|       1.0|\n",
      "|       392|tt0037988|The Picture of Do...|The Picture of Do...|1945|           110| 12786.0| 9.456106101326672|      18.0|           397.0|            405.0|[18.0,397.0,12786...|    0|[-1.4634702030464...|       1.0|\n",
      "|       405|tt0038650|It's a Wonderful ...|It's a Wonderful ...|1946|           130|427625.0|12.966001922279906|      19.0|           174.0|            182.0|[19.0,174.0,42762...|    0|[-3.6825824176514...|       1.0|\n",
      "+----------+---------+--------------------+--------------------+----+--------------+--------+------------------+----------+----------------+-----------------+--------------------+-----+--------------------+----------+\n",
      "only showing top 20 rows\n",
      "\n"
     ]
    }
   ],
   "source": [
    "predictions2.show()"
   ]
  },
  {
   "cell_type": "code",
   "execution_count": 111,
   "id": "2af43799-2c0e-413b-906f-24d64763741a",
   "metadata": {},
   "outputs": [
    {
     "name": "stdout",
     "output_type": "stream",
     "text": [
      "+--------------------------------------------------------------+-----+\n",
      "|features                                                      |label|\n",
      "+--------------------------------------------------------------+-----+\n",
      "|[0.0,150.0,3654.0,1924.0,95.0,3654.0,8.203577736937952]       |0    |\n",
      "|[1.0,448.0,1188.0,1925.0,104.0,1188.0,7.080026499922591]      |0    |\n",
      "|[2.0,190.0,1934.0,1928.0,73.0,1934.0,7.56734567601324]        |0    |\n",
      "|[3.0,134.0,5285.0,1933.0,104.0,5285.0,8.572627898304338]      |0    |\n",
      "|[4.0,14.0,3032.0,1934.0,86.0,3032.0,8.016977746762262]        |0    |\n",
      "|[5.0,70.0,1548.0,1936.0,72.0,1548.0,7.344719054149673]        |0    |\n",
      "|[6.0,372.0,1519.0,1936.0,79.0,1519.0,7.325807502595773]       |0    |\n",
      "|[7.0,152.0,4406.0,1937.0,88.0,4406.0,8.39072252736229]        |0    |\n",
      "|[8.0,201.0,7394.0,1939.0,93.0,7394.0,8.908424139496578]       |0    |\n",
      "|[9.0,388.0,1662.0,1939.0,113.0,1662.0,7.415776975415394]      |0    |\n",
      "|[10.0,405.0,9671.0,1940.0,127.0,9671.0,9.176886995716963]     |0    |\n",
      "|[11.0,457.0,9631.0,1940.0,108.0,9631.0,9.172742341560864]     |0    |\n",
      "|[12.0,252.0,6823.0,1941.0,119.0,6823.0,8.828054536815424]     |0    |\n",
      "|[13.0,0.0,1533.0,1941.0,120.0,1533.0,7.334981878871814]       |0    |\n",
      "|[14.0,277.0,24953.0,1942.0,109.0,24953.0,10.12474933443232]   |0    |\n",
      "|[15.0,44.0,2036.0,1944.0,112.0,2036.0,7.618742377670413]      |0    |\n",
      "|[16.0,146.0,4612.0,1944.0,101.0,4612.0,8.436416881388949]     |0    |\n",
      "|[17.0,98.0,16724.0,1945.0,68.0,16724.0,9.724600092476456]     |0    |\n",
      "|[18.0,397.0,12786.0,1945.0,110.0,12786.0,9.456106101326672]   |0    |\n",
      "|[19.0,174.0,427625.0,1946.0,130.0,427625.0,12.966001922279906]|0    |\n",
      "+--------------------------------------------------------------+-----+\n",
      "only showing top 20 rows\n",
      "\n"
     ]
    }
   ],
   "source": [
    "predictions2.select(\"features\",\"label\").show(truncate=False)"
   ]
  },
  {
   "cell_type": "code",
   "execution_count": 116,
   "id": "48c6980f-b5f3-4c6a-80f2-aeecae253186",
   "metadata": {},
   "outputs": [
    {
     "ename": "AnalysisException",
     "evalue": "cannot resolve 'label_str_cat' given input columns: [Unnamed: 0, features, label, numVotes, numVotes_log, originalTitle, originalTitle_cat, prediction, primaryTitle, primaryTitle_cat, probability, rawPrediction, runtimeMinutes, tconst, tconst_cat, year];\n'Project [prediction#2217, unresolvedalias(cast('label_str_cat as double), None), 1.0 AS 1.0#2253]\n+- Project [Unnamed: 0#1462, tconst#1463, primaryTitle#1464, originalTitle#1465, year#1596, runtimeMinutes#1468, numVotes#1469, numVotes_log#1612, tconst_cat#1692, primaryTitle_cat#1735, originalTitle_cat#1779, features#1797, label#2038, rawPrediction#2177, probability#2195, UDF(rawPrediction#2177) AS prediction#2217]\n   +- Project [Unnamed: 0#1462, tconst#1463, primaryTitle#1464, originalTitle#1465, year#1596, runtimeMinutes#1468, numVotes#1469, numVotes_log#1612, tconst_cat#1692, primaryTitle_cat#1735, originalTitle_cat#1779, features#1797, label#2038, rawPrediction#2177, UDF(rawPrediction#2177) AS probability#2195]\n      +- Project [Unnamed: 0#1462, tconst#1463, primaryTitle#1464, originalTitle#1465, year#1596, runtimeMinutes#1468, numVotes#1469, numVotes_log#1612, tconst_cat#1692, primaryTitle_cat#1735, originalTitle_cat#1779, features#1797, label#2038, UDF(features#1797) AS rawPrediction#2177]\n         +- Project [Unnamed: 0#1462, tconst#1463, primaryTitle#1464, originalTitle#1465, year#1596, runtimeMinutes#1468, numVotes#1469, numVotes_log#1612, tconst_cat#1692, primaryTitle_cat#1735, originalTitle_cat#1779, features#1797, 0 AS label#2038]\n            +- Project [Unnamed: 0#1462, tconst#1463, primaryTitle#1464, originalTitle#1465, year#1596, runtimeMinutes#1468, numVotes#1469, numVotes_log#1612, tconst_cat#1692, primaryTitle_cat#1735, originalTitle_cat#1779, features#1797, 0 AS label#1867]\n               +- Project [Unnamed: 0#1462, tconst#1463, primaryTitle#1464, originalTitle#1465, year#1596, runtimeMinutes#1468, numVotes#1469, numVotes_log#1612, tconst_cat#1692, primaryTitle_cat#1735, originalTitle_cat#1779, UDF(struct(tconst_cat, tconst_cat#1692, primaryTitle_cat, primaryTitle_cat#1735, numVotes, numVotes#1469, year_double_VectorAssembler_d6686b099ae6, cast(year#1596 as double), runtimeMinutes_double_VectorAssembler_d6686b099ae6, cast(runtimeMinutes#1468 as double), numVotes, numVotes#1469, numVotes_log, numVotes_log#1612)) AS features#1797]\n                  +- Project [Unnamed: 0#1462, tconst#1463, primaryTitle#1464, originalTitle#1465, year#1596, runtimeMinutes#1468, numVotes#1469, numVotes_log#1612, tconst_cat#1692, primaryTitle_cat#1735, UDF(cast(originalTitle#1465 as string)) AS originalTitle_cat#1779]\n                     +- Project [Unnamed: 0#1462, tconst#1463, primaryTitle#1464, originalTitle#1465, year#1596, runtimeMinutes#1468, numVotes#1469, numVotes_log#1612, tconst_cat#1692, UDF(cast(primaryTitle#1464 as string)) AS primaryTitle_cat#1735]\n                        +- Project [Unnamed: 0#1462, tconst#1463, primaryTitle#1464, originalTitle#1465, year#1596, runtimeMinutes#1468, numVotes#1469, numVotes_log#1612, UDF(cast(tconst#1463 as string)) AS tconst_cat#1692]\n                           +- Project [Unnamed: 0#1462, tconst#1463, primaryTitle#1464, originalTitle#1465, year#1596, runtimeMinutes#1468, numVotes#1469, ln(numVotes#1469) AS numVotes_log#1612]\n                              +- Project [Unnamed: 0#1462, tconst#1463, primaryTitle#1464, originalTitle#1465, year#1596, runtimeMinutes#1468, numVotes#1469]\n                                 +- Project [Unnamed: 0#1462, tconst#1463, primaryTitle#1464, originalTitle#1465, startYear#1537 AS year#1596, endYear#1546, runtimeMinutes#1468, numVotes#1469]\n                                    +- Project [Unnamed: 0#1462, tconst#1463, primaryTitle#1464, originalTitle#1465, startYear#1537, CASE WHEN (startYear#1537 > endYear#1528) THEN startYear#1537 ELSE endYear#1528 END AS endYear#1546, runtimeMinutes#1468, numVotes#1469]\n                                       +- Project [Unnamed: 0#1462, tconst#1463, primaryTitle#1464, originalTitle#1465, CASE WHEN (startYear#1519 > endYear#1528) THEN endYear#1528 ELSE startYear#1519 END AS startYear#1537, endYear#1528, runtimeMinutes#1468, numVotes#1469]\n                                          +- Project [Unnamed: 0#1462, tconst#1463, primaryTitle#1464, originalTitle#1465, startYear#1519, CASE WHEN (endYear#1467 = 0) THEN startYear#1519 ELSE endYear#1467 END AS endYear#1528, runtimeMinutes#1468, numVotes#1469]\n                                             +- Project [Unnamed: 0#1462, tconst#1463, primaryTitle#1464, originalTitle#1465, CASE WHEN (startYear#1466 = 0) THEN endYear#1467 ELSE startYear#1466 END AS startYear#1519, endYear#1467, runtimeMinutes#1468, numVotes#1469]\n                                                +- Relation [Unnamed: 0#1462,tconst#1463,primaryTitle#1464,originalTitle#1465,startYear#1466,endYear#1467,runtimeMinutes#1468,numVotes#1469] csv\n",
     "output_type": "error",
     "traceback": [
      "\u001b[0;31m---------------------------------------------------------------------------\u001b[0m",
      "\u001b[0;31mAnalysisException\u001b[0m                         Traceback (most recent call last)",
      "Input \u001b[0;32mIn [116]\u001b[0m, in \u001b[0;36m<module>\u001b[0;34m\u001b[0m\n\u001b[0;32m----> 1\u001b[0m predict_log\u001b[38;5;241m=\u001b[39m \u001b[43mlog_req\u001b[49m\u001b[38;5;241;43m.\u001b[39;49m\u001b[43mevaluate\u001b[49m\u001b[43m(\u001b[49m\u001b[43moutput_test\u001b[49m\u001b[43m)\u001b[49m\u001b[38;5;241m.\u001b[39mpredictions\n",
      "File \u001b[0;32m/usr/local/spark/python/pyspark/ml/classification.py:1267\u001b[0m, in \u001b[0;36mLogisticRegressionModel.evaluate\u001b[0;34m(self, dataset)\u001b[0m\n\u001b[1;32m   1265\u001b[0m \u001b[38;5;28;01mif\u001b[39;00m \u001b[38;5;129;01mnot\u001b[39;00m \u001b[38;5;28misinstance\u001b[39m(dataset, DataFrame):\n\u001b[1;32m   1266\u001b[0m     \u001b[38;5;28;01mraise\u001b[39;00m \u001b[38;5;167;01mTypeError\u001b[39;00m(\u001b[38;5;124m\"\u001b[39m\u001b[38;5;124mdataset must be a DataFrame but got \u001b[39m\u001b[38;5;132;01m%s\u001b[39;00m\u001b[38;5;124m.\u001b[39m\u001b[38;5;124m\"\u001b[39m \u001b[38;5;241m%\u001b[39m \u001b[38;5;28mtype\u001b[39m(dataset))\n\u001b[0;32m-> 1267\u001b[0m java_blr_summary \u001b[38;5;241m=\u001b[39m \u001b[38;5;28;43mself\u001b[39;49m\u001b[38;5;241;43m.\u001b[39;49m\u001b[43m_call_java\u001b[49m\u001b[43m(\u001b[49m\u001b[38;5;124;43m\"\u001b[39;49m\u001b[38;5;124;43mevaluate\u001b[39;49m\u001b[38;5;124;43m\"\u001b[39;49m\u001b[43m,\u001b[49m\u001b[43m \u001b[49m\u001b[43mdataset\u001b[49m\u001b[43m)\u001b[49m\n\u001b[1;32m   1268\u001b[0m \u001b[38;5;28;01mif\u001b[39;00m \u001b[38;5;28mself\u001b[39m\u001b[38;5;241m.\u001b[39mnumClasses \u001b[38;5;241m<\u001b[39m\u001b[38;5;241m=\u001b[39m \u001b[38;5;241m2\u001b[39m:\n\u001b[1;32m   1269\u001b[0m     \u001b[38;5;28;01mreturn\u001b[39;00m BinaryLogisticRegressionSummary(java_blr_summary)\n",
      "File \u001b[0;32m/usr/local/spark/python/pyspark/ml/wrapper.py:54\u001b[0m, in \u001b[0;36mJavaWrapper._call_java\u001b[0;34m(self, name, *args)\u001b[0m\n\u001b[1;32m     52\u001b[0m sc \u001b[38;5;241m=\u001b[39m SparkContext\u001b[38;5;241m.\u001b[39m_active_spark_context\n\u001b[1;32m     53\u001b[0m java_args \u001b[38;5;241m=\u001b[39m [_py2java(sc, arg) \u001b[38;5;28;01mfor\u001b[39;00m arg \u001b[38;5;129;01min\u001b[39;00m args]\n\u001b[0;32m---> 54\u001b[0m \u001b[38;5;28;01mreturn\u001b[39;00m _java2py(sc, \u001b[43mm\u001b[49m\u001b[43m(\u001b[49m\u001b[38;5;241;43m*\u001b[39;49m\u001b[43mjava_args\u001b[49m\u001b[43m)\u001b[49m)\n",
      "File \u001b[0;32m/usr/local/spark/python/lib/py4j-0.10.9.2-src.zip/py4j/java_gateway.py:1309\u001b[0m, in \u001b[0;36mJavaMember.__call__\u001b[0;34m(self, *args)\u001b[0m\n\u001b[1;32m   1303\u001b[0m command \u001b[38;5;241m=\u001b[39m proto\u001b[38;5;241m.\u001b[39mCALL_COMMAND_NAME \u001b[38;5;241m+\u001b[39m\\\n\u001b[1;32m   1304\u001b[0m     \u001b[38;5;28mself\u001b[39m\u001b[38;5;241m.\u001b[39mcommand_header \u001b[38;5;241m+\u001b[39m\\\n\u001b[1;32m   1305\u001b[0m     args_command \u001b[38;5;241m+\u001b[39m\\\n\u001b[1;32m   1306\u001b[0m     proto\u001b[38;5;241m.\u001b[39mEND_COMMAND_PART\n\u001b[1;32m   1308\u001b[0m answer \u001b[38;5;241m=\u001b[39m \u001b[38;5;28mself\u001b[39m\u001b[38;5;241m.\u001b[39mgateway_client\u001b[38;5;241m.\u001b[39msend_command(command)\n\u001b[0;32m-> 1309\u001b[0m return_value \u001b[38;5;241m=\u001b[39m \u001b[43mget_return_value\u001b[49m\u001b[43m(\u001b[49m\n\u001b[1;32m   1310\u001b[0m \u001b[43m    \u001b[49m\u001b[43manswer\u001b[49m\u001b[43m,\u001b[49m\u001b[43m \u001b[49m\u001b[38;5;28;43mself\u001b[39;49m\u001b[38;5;241;43m.\u001b[39;49m\u001b[43mgateway_client\u001b[49m\u001b[43m,\u001b[49m\u001b[43m \u001b[49m\u001b[38;5;28;43mself\u001b[39;49m\u001b[38;5;241;43m.\u001b[39;49m\u001b[43mtarget_id\u001b[49m\u001b[43m,\u001b[49m\u001b[43m \u001b[49m\u001b[38;5;28;43mself\u001b[39;49m\u001b[38;5;241;43m.\u001b[39;49m\u001b[43mname\u001b[49m\u001b[43m)\u001b[49m\n\u001b[1;32m   1312\u001b[0m \u001b[38;5;28;01mfor\u001b[39;00m temp_arg \u001b[38;5;129;01min\u001b[39;00m temp_args:\n\u001b[1;32m   1313\u001b[0m     temp_arg\u001b[38;5;241m.\u001b[39m_detach()\n",
      "File \u001b[0;32m/usr/local/spark/python/pyspark/sql/utils.py:117\u001b[0m, in \u001b[0;36mcapture_sql_exception.<locals>.deco\u001b[0;34m(*a, **kw)\u001b[0m\n\u001b[1;32m    113\u001b[0m converted \u001b[38;5;241m=\u001b[39m convert_exception(e\u001b[38;5;241m.\u001b[39mjava_exception)\n\u001b[1;32m    114\u001b[0m \u001b[38;5;28;01mif\u001b[39;00m \u001b[38;5;129;01mnot\u001b[39;00m \u001b[38;5;28misinstance\u001b[39m(converted, UnknownException):\n\u001b[1;32m    115\u001b[0m     \u001b[38;5;66;03m# Hide where the exception came from that shows a non-Pythonic\u001b[39;00m\n\u001b[1;32m    116\u001b[0m     \u001b[38;5;66;03m# JVM exception message.\u001b[39;00m\n\u001b[0;32m--> 117\u001b[0m     \u001b[38;5;28;01mraise\u001b[39;00m converted \u001b[38;5;28;01mfrom\u001b[39;00m \u001b[38;5;28mNone\u001b[39m\n\u001b[1;32m    118\u001b[0m \u001b[38;5;28;01melse\u001b[39;00m:\n\u001b[1;32m    119\u001b[0m     \u001b[38;5;28;01mraise\u001b[39;00m\n",
      "\u001b[0;31mAnalysisException\u001b[0m: cannot resolve 'label_str_cat' given input columns: [Unnamed: 0, features, label, numVotes, numVotes_log, originalTitle, originalTitle_cat, prediction, primaryTitle, primaryTitle_cat, probability, rawPrediction, runtimeMinutes, tconst, tconst_cat, year];\n'Project [prediction#2217, unresolvedalias(cast('label_str_cat as double), None), 1.0 AS 1.0#2253]\n+- Project [Unnamed: 0#1462, tconst#1463, primaryTitle#1464, originalTitle#1465, year#1596, runtimeMinutes#1468, numVotes#1469, numVotes_log#1612, tconst_cat#1692, primaryTitle_cat#1735, originalTitle_cat#1779, features#1797, label#2038, rawPrediction#2177, probability#2195, UDF(rawPrediction#2177) AS prediction#2217]\n   +- Project [Unnamed: 0#1462, tconst#1463, primaryTitle#1464, originalTitle#1465, year#1596, runtimeMinutes#1468, numVotes#1469, numVotes_log#1612, tconst_cat#1692, primaryTitle_cat#1735, originalTitle_cat#1779, features#1797, label#2038, rawPrediction#2177, UDF(rawPrediction#2177) AS probability#2195]\n      +- Project [Unnamed: 0#1462, tconst#1463, primaryTitle#1464, originalTitle#1465, year#1596, runtimeMinutes#1468, numVotes#1469, numVotes_log#1612, tconst_cat#1692, primaryTitle_cat#1735, originalTitle_cat#1779, features#1797, label#2038, UDF(features#1797) AS rawPrediction#2177]\n         +- Project [Unnamed: 0#1462, tconst#1463, primaryTitle#1464, originalTitle#1465, year#1596, runtimeMinutes#1468, numVotes#1469, numVotes_log#1612, tconst_cat#1692, primaryTitle_cat#1735, originalTitle_cat#1779, features#1797, 0 AS label#2038]\n            +- Project [Unnamed: 0#1462, tconst#1463, primaryTitle#1464, originalTitle#1465, year#1596, runtimeMinutes#1468, numVotes#1469, numVotes_log#1612, tconst_cat#1692, primaryTitle_cat#1735, originalTitle_cat#1779, features#1797, 0 AS label#1867]\n               +- Project [Unnamed: 0#1462, tconst#1463, primaryTitle#1464, originalTitle#1465, year#1596, runtimeMinutes#1468, numVotes#1469, numVotes_log#1612, tconst_cat#1692, primaryTitle_cat#1735, originalTitle_cat#1779, UDF(struct(tconst_cat, tconst_cat#1692, primaryTitle_cat, primaryTitle_cat#1735, numVotes, numVotes#1469, year_double_VectorAssembler_d6686b099ae6, cast(year#1596 as double), runtimeMinutes_double_VectorAssembler_d6686b099ae6, cast(runtimeMinutes#1468 as double), numVotes, numVotes#1469, numVotes_log, numVotes_log#1612)) AS features#1797]\n                  +- Project [Unnamed: 0#1462, tconst#1463, primaryTitle#1464, originalTitle#1465, year#1596, runtimeMinutes#1468, numVotes#1469, numVotes_log#1612, tconst_cat#1692, primaryTitle_cat#1735, UDF(cast(originalTitle#1465 as string)) AS originalTitle_cat#1779]\n                     +- Project [Unnamed: 0#1462, tconst#1463, primaryTitle#1464, originalTitle#1465, year#1596, runtimeMinutes#1468, numVotes#1469, numVotes_log#1612, tconst_cat#1692, UDF(cast(primaryTitle#1464 as string)) AS primaryTitle_cat#1735]\n                        +- Project [Unnamed: 0#1462, tconst#1463, primaryTitle#1464, originalTitle#1465, year#1596, runtimeMinutes#1468, numVotes#1469, numVotes_log#1612, UDF(cast(tconst#1463 as string)) AS tconst_cat#1692]\n                           +- Project [Unnamed: 0#1462, tconst#1463, primaryTitle#1464, originalTitle#1465, year#1596, runtimeMinutes#1468, numVotes#1469, ln(numVotes#1469) AS numVotes_log#1612]\n                              +- Project [Unnamed: 0#1462, tconst#1463, primaryTitle#1464, originalTitle#1465, year#1596, runtimeMinutes#1468, numVotes#1469]\n                                 +- Project [Unnamed: 0#1462, tconst#1463, primaryTitle#1464, originalTitle#1465, startYear#1537 AS year#1596, endYear#1546, runtimeMinutes#1468, numVotes#1469]\n                                    +- Project [Unnamed: 0#1462, tconst#1463, primaryTitle#1464, originalTitle#1465, startYear#1537, CASE WHEN (startYear#1537 > endYear#1528) THEN startYear#1537 ELSE endYear#1528 END AS endYear#1546, runtimeMinutes#1468, numVotes#1469]\n                                       +- Project [Unnamed: 0#1462, tconst#1463, primaryTitle#1464, originalTitle#1465, CASE WHEN (startYear#1519 > endYear#1528) THEN endYear#1528 ELSE startYear#1519 END AS startYear#1537, endYear#1528, runtimeMinutes#1468, numVotes#1469]\n                                          +- Project [Unnamed: 0#1462, tconst#1463, primaryTitle#1464, originalTitle#1465, startYear#1519, CASE WHEN (endYear#1467 = 0) THEN startYear#1519 ELSE endYear#1467 END AS endYear#1528, runtimeMinutes#1468, numVotes#1469]\n                                             +- Project [Unnamed: 0#1462, tconst#1463, primaryTitle#1464, originalTitle#1465, CASE WHEN (startYear#1466 = 0) THEN endYear#1467 ELSE startYear#1466 END AS startYear#1519, endYear#1467, runtimeMinutes#1468, numVotes#1469]\n                                                +- Relation [Unnamed: 0#1462,tconst#1463,primaryTitle#1464,originalTitle#1465,startYear#1466,endYear#1467,runtimeMinutes#1468,numVotes#1469] csv\n"
     ]
    }
   ],
   "source": [
    "predict_log= log_req.evaluate(output_test).predictions"
   ]
  },
  {
   "cell_type": "code",
   "execution_count": null,
   "id": "b626d792-1dfb-45e0-992c-879d55f8537c",
   "metadata": {},
   "outputs": [],
   "source": []
  }
 ],
 "metadata": {
  "kernelspec": {
   "display_name": "Python 3 (ipykernel)",
   "language": "python",
   "name": "python3"
  },
  "language_info": {
   "codemirror_mode": {
    "name": "ipython",
    "version": 3
   },
   "file_extension": ".py",
   "mimetype": "text/x-python",
   "name": "python",
   "nbconvert_exporter": "python",
   "pygments_lexer": "ipython3",
   "version": "3.9.7"
  }
 },
 "nbformat": 4,
 "nbformat_minor": 5
}
